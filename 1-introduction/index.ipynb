{
 "cells": [
  {
   "cell_type": "markdown",
   "metadata": {
    "slideshow": {
     "slide_type": "slide"
    }
   },
   "source": [
    "# Int**R**oduction générale\n",
    "\n",
    "<div class=\"subtitle1\" id=\"coursename\">\n",
    "Techniques avancées en programmation statistique <strong>R</strong>\n",
    "</div>\n",
    "<div class=\"subtitle2\" id=\"author\">\n",
    "Patrick Fournier<br>\n",
    "Automne 2021<br>\n",
    "Université du Québec À Montréal<br>\n",
    "</div>"
   ]
  },
  {
   "cell_type": "markdown",
   "metadata": {
    "slideshow": {
     "slide_type": "slide"
    },
    "tags": []
   },
   "source": [
    "## Cours 1: Introduction\n",
    "1. Un peu d'histoire\n",
    "2. Niveaux de langage\n",
    "3. Paradigmes endossés par **R**\n",
    "3. Git et GitHub"
   ]
  },
  {
   "cell_type": "markdown",
   "metadata": {
    "slideshow": {
     "slide_type": "slide"
    },
    "tags": []
   },
   "source": [
    "## Un peu d'histoire\n",
    "<div class=\"subtitle1\">\n",
    "La partie relax du cours\n",
    "</div>\n",
    "\n",
    "### Bell Lab\n",
    "* Fondé en 1925 par la American Telephone & Telegraph Company (AT&T)\n",
    "* 9 prix Nobels et 4 prix Turing\n",
    "* Mecque du développement technologique au 20<sup>e</sup> siècle\n",
    " "
   ]
  },
  {
   "cell_type": "markdown",
   "metadata": {
    "slideshow": {
     "slide_type": "subslide"
    },
    "tags": []
   },
   "source": [
    "### Ordinateur binaire (1939)\n",
    "<center>\n",
    "<img src=\"https://images.computerhistory.org/revonline/images/500004321-03-01.jpg?w=600\"\n",
    " alt=\"Complex Number Calculator\">\n",
    "</center>\n",
    "\n",
    "[Détails](https://history-computer.com/people/george-stibitz/)"
   ]
  },
  {
   "cell_type": "markdown",
   "metadata": {
    "slideshow": {
     "slide_type": "subslide"
    },
    "tags": []
   },
   "source": [
    "### Transistor (1947)\n",
    "<center>\n",
    "<img src=\"https://media-bell-labs-com.s3.amazonaws.com/timeline/20160317_2221/1947_Transistor.jpg.810x785_q85_crop_upscale.jpg\"\n",
    " alt=\"Vieux transistor\">\n",
    "</center>\n",
    "\n",
    "[Détails](https://www.bell-labs.com/timeline/#/1940/1/open/)"
   ]
  },
  {
   "cell_type": "markdown",
   "metadata": {
    "slideshow": {
     "slide_type": "subslide"
    },
    "tags": []
   },
   "source": [
    "### Téléphonie cellulaire (1947)\n",
    "<center>\n",
    "<img src=\"https://i.insider.com/4dc3f9c04bd7c8b8752c0000?width=700&format=jpeg&auto=webp\"\n",
    " alt=\"Vieux cell\">\n",
    "</center>\n",
    "\n",
    "[Détails](http://www.wb6nvh.com/MTSfiles/Carphone1.htm)"
   ]
  },
  {
   "cell_type": "markdown",
   "metadata": {
    "slideshow": {
     "slide_type": "subslide"
    },
    "tags": []
   },
   "source": [
    "### Cellule photovoltaïque (1954)\n",
    "<center>\n",
    "<img src=\"https://i.kinja-img.com/gawker-media/image/upload/c_fit,f_auto,g_center,pg_1,q_60,w_965/ztvqbjoeelgunbojrlgn.jpg\"\n",
    " alt=\"Vieux paneau solaire\">\n",
    "</center>\n",
    "\n",
    "[Détails](https://gizmodo.com/60-years-ago-today-bell-labs-unveiled-the-solar-cell-1567543841)"
   ]
  },
  {
   "cell_type": "markdown",
   "metadata": {
    "slideshow": {
     "slide_type": "subslide"
    },
    "tags": []
   },
   "source": [
    "### Laser (1957)\n",
    "<center>\n",
    "<img src=\"https://physics.aps.org/assets/8f0adce5-f395-486c-8a0c-2f42a6dc95c9/e24_1.jpg\"\n",
    " alt=\"Vieux laser\">\n",
    "</center>\n",
    "\n",
    "[Détails](https://physics.aps.org/story/v26/st24)"
   ]
  },
  {
   "cell_type": "markdown",
   "metadata": {
    "slideshow": {
     "slide_type": "subslide"
    },
    "tags": []
   },
   "source": [
    "### Satellite de communication (1962)\n",
    "<center>\n",
    "<img src=\"https://d1p0gxnqcu0lvz.cloudfront.net/images/nbl-history-timeline-telstar-800x450.original.jpg\"\n",
    " alt=\"Vieux satellite\">\n",
    "</center>\n",
    "\n",
    "[Détails](https://www.bell-labs.com/about/history/innovation-stories/telstar-1/)"
   ]
  },
  {
   "cell_type": "markdown",
   "metadata": {
    "slideshow": {
     "slide_type": "subslide"
    },
    "tags": []
   },
   "source": [
    "### Unix, C (1969 - 1972)\n",
    "<center>\n",
    "<img src=\"https://upload.wikimedia.org/wikipedia/commons/thumb/8/8f/Ken_Thompson_%28sitting%29_and_Dennis_Ritchie_at_PDP-11_%282876612463%29.jpg/1280px-Ken_Thompson_%28sitting%29_and_Dennis_Ritchie_at_PDP-11_%282876612463%29.jpg\"\n",
    " alt=\"Ken & Den\">\n",
    "</center>\n",
    "\n",
    "[Détails](https://unix.org/what_is_unix/history_timeline.html)"
   ]
  },
  {
   "cell_type": "markdown",
   "metadata": {
    "slideshow": {
     "slide_type": "subslide"
    },
    "tags": []
   },
   "source": [
    "### C++ (années 1980)\n",
    "<center>\n",
    "<img src=\"https://upload.wikimedia.org/wikipedia/commons/d/da/BjarneStroustrup.jpg\"\n",
    " alt=\"Bjarne\">\n",
    "</center>\n",
    "\n",
    "[Détails](https://www.cplusplus.com/info/history/)"
   ]
  },
  {
   "cell_type": "markdown",
   "metadata": {
    "slideshow": {
     "slide_type": "subslide"
    }
   },
   "source": [
    "### S\n",
    "* Inventé par John Chambers au sein des Bell labs\n",
    "  + Seconde moitié des années 1970\n",
    "* Développé pour la programmation statistique\n",
    "  + Auparavant, Fortran\n",
    "* Objectif: «To turn ideas into software, quickly and faithfully»\n",
    "  + L'emphase n'est pas sur la performance"
   ]
  },
  {
   "cell_type": "markdown",
   "metadata": {
    "slideshow": {
     "slide_type": "subslide"
    }
   },
   "source": [
    "### **R** vs. S\n",
    "* S est un langage de programmation (*spécification*) avec 3 *implémentations* majeures:\n",
    "  + vieux S,\n",
    "  + nouveau S,\n",
    "  + **R**.\n",
    "  \n",
    "[Détails](https://cran.r-project.org/doc/FAQ/R-FAQ.html#What-are-the-differences-between-R-and-S_003f)"
   ]
  },
  {
   "cell_type": "markdown",
   "metadata": {
    "slideshow": {
     "slide_type": "slide"
    }
   },
   "source": [
    "## Niveaux de langage\n",
    "<div class=\"subtitle1\">\n",
    "Entre binaire et anglais\n",
    "</div>\n",
    "\n",
    "* Compromis entre *performance* et *convivialité*\n",
    "* Par exemple:\n",
    "    1. Langage machine\n",
    "    2. Langage assembleur\n",
    "    3. Langage de bas niveau\n",
    "    4. Langage de haut niveau"
   ]
  },
  {
   "cell_type": "markdown",
   "metadata": {
    "slideshow": {
     "slide_type": "subslide"
    }
   },
   "source": [
    "### Langage machine\n",
    "* *Directement* exécuté par la machine\n",
    "* Très difficile à comprendre pour un humain"
   ]
  },
  {
   "cell_type": "markdown",
   "metadata": {
    "slideshow": {
     "slide_type": "fragment"
    }
   },
   "source": [
    "Exemple: Calcul d'un nombre de Fibonacci sur x86:\n",
    "```\n",
    "8B542408 83FA0077 06B80000 0000C383\n",
    "FA027706 B8010000 00C353BB 01000000\n",
    "B9010000 008D0419 83FA0376 078BD989\n",
    "C14AEBF1 5BC3\n",
    "```"
   ]
  },
  {
   "cell_type": "markdown",
   "metadata": {
    "slideshow": {
     "slide_type": "subslide"
    }
   },
   "source": [
    "### Langage de haut niveau\n",
    "* Éloigné du langage machine, n'a presque rien à voir avec celui-ci\n",
    "* Concu pour être *indépendant de l'architecture* et faciliter la vie du programmeur"
   ]
  },
  {
   "cell_type": "markdown",
   "metadata": {
    "slideshow": {
     "slide_type": "fragment"
    }
   },
   "source": [
    "Exemple: Addition de polynômes (sur $ \\mathbb Z $) en Haskell:\n",
    "```haskell\n",
    "type Poly = [(Int, Int)]\n",
    "-- Supposés ordonnés en ordre croissant\n",
    "-- de puissances.\n",
    "\n",
    "addPoly :: Poly -> Poly -> Poly\n",
    "addPoly [] ys = ys\n",
    "addPoly xs [] = xs\n",
    "addPoly ((a, b):xs) ((c, d):ys)\n",
    "    | a == c = ((a, b + d):(addPoly xs ys))\n",
    "    | a < c = ((a, b):(addPoly xs ((c, d):ys)))\n",
    "    | a > c = ((c, d):(addPoly ((a, b):xs) ys))\n",
    "```\n",
    "\n",
    "[Détails](https://wiki.haskell.org/Add_polynomials)"
   ]
  },
  {
   "cell_type": "markdown",
   "metadata": {
    "slideshow": {
     "slide_type": "subslide"
    }
   },
   "source": [
    "### Compilation vs. interprétation\n",
    "* Ordinateur: exécute uniquement du code machine\n",
    "* Autres langages doivent être «traduits»: *compilation*\n",
    "* Autre possibilité: exécuter directement le code en utilisant un logiciel auxiliaire (préalablement compilé)\n",
    "    + Logiciel auxiliaire: *interpréteur*\n",
    "* **R** fonctionne ainsi"
   ]
  },
  {
   "cell_type": "markdown",
   "metadata": {
    "slideshow": {
     "slide_type": "subslide"
    }
   },
   "source": [
    "### Bref\n",
    "**R** est\n",
    "- Un langage de *haut niveau*\n",
    "    + Vise à être plus près du langage mathématique que du langage machine\n",
    "- Un langage *interprété*\n",
    "    + Les scripts **R** sont interprétés, pas compilés\n",
    "- Une *implémentation* de S\n",
    "    + S est un ensemble de spécifications implémentées (entre autres) par **R**"
   ]
  },
  {
   "cell_type": "markdown",
   "metadata": {
    "slideshow": {
     "slide_type": "slide"
    }
   },
   "source": [
    "## Paradigmes endossés par **R**\n",
    "<div class=\"subtitle1\">\n",
    "<strong>R</strong> vs. les autres languages\n",
    "</div>\n",
    "\n",
    "* Paradigme: ensemble de caractéristiques d'un langage\n",
    "* **R** est *multiparadigme* $ \\Rightarrow $ flexibilité"
   ]
  },
  {
   "cell_type": "markdown",
   "metadata": {
    "slideshow": {
     "slide_type": "subslide"
    }
   },
   "source": [
    "### Programmation impérative\n",
    "* Logiciel $ \\Leftrightarrow $ modification successives de son propre *état*"
   ]
  },
  {
   "cell_type": "code",
   "execution_count": 3,
   "metadata": {
    "slideshow": {
     "slide_type": "fragment"
    }
   },
   "outputs": [
    {
     "data": {
      "text/html": [
       "<table class=\"dataframe\">\n",
       "<caption>A matrix: 1 × 1 of type dbl</caption>\n",
       "<tbody>\n",
       "\t<tr><td>0.002118689</td></tr>\n",
       "</tbody>\n",
       "</table>\n"
      ],
      "text/latex": [
       "A matrix: 1 × 1 of type dbl\n",
       "\\begin{tabular}{l}\n",
       "\t 0.002118689\\\\\n",
       "\\end{tabular}\n"
      ],
      "text/markdown": [
       "\n",
       "A matrix: 1 × 1 of type dbl\n",
       "\n",
       "| 0.002118689 |\n",
       "\n"
      ],
      "text/plain": [
       "     [,1]       \n",
       "[1,] 0.002118689"
      ]
     },
     "metadata": {},
     "output_type": "display_data"
    }
   ],
   "source": [
    "autocor1 <- function(x) {\n",
    "    covariance <- numeric(length(x))\n",
    "    norm <- numeric(1)\n",
    "\n",
    "    x <- scale(x)\n",
    "    covariance <- crossprod(x, c(x[-1], x[1]))\n",
    "    norm <- crossprod(x)\n",
    "\n",
    "    covariance / norm\n",
    "}\n",
    "\n",
    "set.seed(42)\n",
    "autocor1(rnorm(1000))"
   ]
  },
  {
   "cell_type": "markdown",
   "metadata": {
    "slideshow": {
     "slide_type": "subslide"
    }
   },
   "source": [
    "### Programmation fonctionnelle\n",
    "* Logiciel $ \\Leftrightarrow $ application de *fonctions*"
   ]
  },
  {
   "cell_type": "code",
   "execution_count": 2,
   "metadata": {
    "slideshow": {
     "slide_type": "fragment"
    }
   },
   "outputs": [
    {
     "data": {
      "text/html": [
       "<table class=\"dataframe\">\n",
       "<caption>A matrix: 1 × 1 of type dbl</caption>\n",
       "<tbody>\n",
       "\t<tr><td>0.002118689</td></tr>\n",
       "</tbody>\n",
       "</table>\n"
      ],
      "text/latex": [
       "A matrix: 1 × 1 of type dbl\n",
       "\\begin{tabular}{l}\n",
       "\t 0.002118689\\\\\n",
       "\\end{tabular}\n"
      ],
      "text/markdown": [
       "\n",
       "A matrix: 1 × 1 of type dbl\n",
       "\n",
       "| 0.002118689 |\n",
       "\n"
      ],
      "text/plain": [
       "     [,1]       \n",
       "[1,] 0.002118689"
      ]
     },
     "metadata": {},
     "output_type": "display_data"
    }
   ],
   "source": [
    "library(purrr)\n",
    "\n",
    "autoCor1_fun <- compose(\n",
    "    function(x) crossprod(x, c(x[-1], x[1])) / crossprod(x),\n",
    "    scale)\n",
    "\n",
    "set.seed(42)\n",
    "autoCor1_fun(rnorm(1000))"
   ]
  },
  {
   "cell_type": "markdown",
   "metadata": {
    "slideshow": {
     "slide_type": "subslide"
    }
   },
   "source": [
    "### Programmation réflective\n",
    "* Un logiciel peut *examiner et modifier* sa structure"
   ]
  },
  {
   "cell_type": "code",
   "execution_count": 3,
   "metadata": {
    "slideshow": {
     "slide_type": "fragment"
    }
   },
   "outputs": [
    {
     "ename": "ERROR",
     "evalue": "Error in add1(): argument \"x\" is missing, with no default\n",
     "output_type": "error",
     "traceback": [
      "Error in add1(): argument \"x\" is missing, with no default\nTraceback:\n",
      "1. add1()"
     ]
    }
   ],
   "source": [
    "add1 <- function(x) x + 1\n",
    "add1()"
   ]
  },
  {
   "cell_type": "code",
   "execution_count": 4,
   "metadata": {
    "slideshow": {
     "slide_type": "fragment"
    }
   },
   "outputs": [
    {
     "data": {
      "text/html": [
       "43"
      ],
      "text/latex": [
       "43"
      ],
      "text/markdown": [
       "43"
      ],
      "text/plain": [
       "[1] 43"
      ]
     },
     "metadata": {},
     "output_type": "display_data"
    }
   ],
   "source": [
    "formals(add1) <- pairlist(x = 42)\n",
    "add1()"
   ]
  },
  {
   "cell_type": "markdown",
   "metadata": {
    "slideshow": {
     "slide_type": "subslide"
    }
   },
   "source": [
    "### Programmation orientée objet\n",
    "* Le concept d'*objet* joue un rôle central."
   ]
  },
  {
   "cell_type": "code",
   "execution_count": 5,
   "metadata": {
    "slideshow": {
     "slide_type": "fragment"
    }
   },
   "outputs": [
    {
     "name": "stdout",
     "output_type": "stream",
     "text": [
      "Je suis le vecteur de Patrick!!!\n"
     ]
    },
    {
     "data": {
      "text/plain": [
       "   Min. 1st Qu.  Median    Mean 3rd Qu.    Max. \n",
       "      1       2       3       3       4       5 "
      ]
     },
     "metadata": {},
     "output_type": "display_data"
    }
   ],
   "source": [
    "v <- structure(1:5, class = c(\"monvecteur\", \"integer\"))\n",
    "\n",
    "summary.monvecteur <- function(x, ...) { \n",
    "        cat(\"Je suis le vecteur de Patrick!!!\\n\")\n",
    "        NextMethod()\n",
    "}\n",
    "  \n",
    "summary(v)"
   ]
  },
  {
   "cell_type": "markdown",
   "metadata": {
    "slideshow": {
     "slide_type": "subslide"
    }
   },
   "source": [
    "### Array programming\n",
    "* Opérations sur des *ensembles* de valeurs."
   ]
  },
  {
   "cell_type": "code",
   "execution_count": 6,
   "metadata": {
    "slideshow": {
     "slide_type": "fragment"
    }
   },
   "outputs": [
    {
     "data": {
      "text/plain": [
       "\n",
       "\tWilcoxon signed rank test with continuity correction\n",
       "\n",
       "data:  β\n",
       "V = 133375, p-value < 2.2e-16\n",
       "alternative hypothesis: true location is not equal to 2.909132\n"
      ]
     },
     "metadata": {},
     "output_type": "display_data"
    }
   ],
   "source": [
    "n <- 1000L\n",
    "\n",
    "set.seed(666L)\n",
    "sims <- replicate(n,\n",
    "                  expr = lm(dist ~ I(speed + rnorm(50L)) - 1, cars),\n",
    "                  simplify = FALSE)\n",
    "β <- sapply(sims, coef)\n",
    "\n",
    "wilcox.test(β, mu = coef(lm(dist ~ speed - 1, cars)))"
   ]
  },
  {
   "cell_type": "markdown",
   "metadata": {
    "slideshow": {
     "slide_type": "subslide"
    }
   },
   "source": [
    "### Modèles de calcul\n",
    "* *Kurt Gödel*: Fonction récursive\n",
    "    + On Undecidable Propositions of Formal Mathematical Systems (1934)\n",
    "* *Alonzo Church*: $ \\lambda $-calcul\n",
    "    + An Unsolvable Problem of Elementary Number Theory (1936) (Fonction récursive $ \\Leftrightarrow $ $ \\lambda $-calcul)\n",
    "* *Alan Turing*: Machine de Turing («Logical computing machine»)\n",
    "    + On Computable Numbers, with an Application to the Entscheidungsproblem (1937) ($ \\lambda $-calcul $ \\Leftrightarrow $ Machine de Turing)\n",
    "* *Thèse de Church-Turing*: Ces trois modèles sont équivalents au sens où la classe des fonctions calculables est la même pour chacun."
   ]
  },
  {
   "cell_type": "markdown",
   "metadata": {
    "slideshow": {
     "slide_type": "slide"
    }
   },
   "source": [
    "## Git et GitHub\n",
    "<div class=\"subtitle1\">\n",
    "Collaborer au 21<sup>e</sup> siècle.\n",
    "</div>\n",
    "\n",
    "* Système de gestion des versions:\n",
    "    + Gérer l'ensemble des versions d'un groupe de fichiers.\n",
    "* Git $ \\neq $ GitHub.\n",
    "* [Glosaire Git](https://git-scm.com/docs/gitglossary).\n",
    "* [RTFM](https://git-scm.com/docs).\n",
    "    + [git clone](https://git-scm.com/docs/git-clone).\n",
    "    + [git add](https://git-scm.com/docs/git-add).\n",
    "    + [git commit](https://git-scm.com/docs/git-commit).\n",
    "    + [git pull](https://git-scm.com/docs/git-pull).\n",
    "    + [git push](https://git-scm.com/docs/git-push).\n",
    "    + [git remote](https://git-scm.com/docs/git-remote)."
   ]
  },
  {
   "cell_type": "markdown",
   "metadata": {
    "slideshow": {
     "slide_type": "subslide"
    }
   },
   "source": [
    "### Dépôt Git\n",
    "* «Repository», «repo»\n",
    "* Conteneur pour un ensemble de fichiers, par exemple:\n",
    "    + Répertoire sur votre ordinateur\n",
    "    + Dépôt GitHub\n",
    "* Copie d'un dépôt: *clône*\n",
    "* Cas typique:\n",
    "    + Un dépôt sur GitHub\n",
    "    + Un clône local"
   ]
  },
  {
   "cell_type": "markdown",
   "metadata": {
    "slideshow": {
     "slide_type": "subslide"
    }
   },
   "source": [
    "### Workflow typique\n",
    "1. Mise à jour du dépôt local: `git pull`\n",
    "1. Modifications dépôt local\n",
    "2. Commettre les modifications: `git commit`\n",
    "3. Rincer et répéter\n",
    "4. Envoie des modifications locales vers GitHub: `git push`"
   ]
  },
  {
   "cell_type": "markdown",
   "metadata": {
    "slideshow": {
     "slide_type": "subslide"
    }
   },
   "source": [
    "### `git clone`\n",
    "![Clone box](pictures/clone-box.png)\n",
    "\n",
    "[![git clone](pictures/git-clone.svg)](https://asciinema.org/a/433615)"
   ]
  },
  {
   "cell_type": "markdown",
   "metadata": {
    "slideshow": {
     "slide_type": "subslide"
    }
   },
   "source": [
    "### `git commit`\n",
    "[![git commit](pictures/git-commit.svg)](https://asciinema.org/a/433618)"
   ]
  },
  {
   "cell_type": "markdown",
   "metadata": {
    "slideshow": {
     "slide_type": "subslide"
    }
   },
   "source": [
    "### `git push`\n",
    "[![git push](pictures/git-push.svg)](https://asciinema.org/a/433620)"
   ]
  },
  {
   "cell_type": "markdown",
   "metadata": {
    "slideshow": {
     "slide_type": "subslide"
    }
   },
   "source": [
    "### `git pull`\n",
    "S'il y a des changements en amont:\n",
    "\n",
    "[![git push](pictures/git-pull.svg)](https://asciinema.org/a/433621)"
   ]
  }
 ],
 "metadata": {
  "celltoolbar": "Slideshow",
  "kernelspec": {
   "display_name": "R",
   "language": "R",
   "name": "ir"
  },
  "language_info": {
   "codemirror_mode": "r",
   "file_extension": ".r",
   "mimetype": "text/x-r-source",
   "name": "R",
   "pygments_lexer": "r",
   "version": "4.1.1"
  },
  "livereveal": {
   "autolaunch": true
  },
  "rise": {
   "autolaunch": true,
   "controls": true,
   "controlsTutorial": true,
   "hash": true,
   "help": false,
   "hideinactivecursor": true,
   "mouseWheel": false,
   "overview": false,
   "pause": true,
   "scroll": true,
   "slideNumber": true,
   "theme": "black",
   "transition": "slide"
  }
 },
 "nbformat": 4,
 "nbformat_minor": 4
}
