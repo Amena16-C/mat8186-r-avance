{
 "cells": [
  {
   "cell_type": "markdown",
   "metadata": {},
   "source": [
    "# Exemples de code R."
   ]
  },
  {
   "cell_type": "markdown",
   "metadata": {},
   "source": [
    "## Auto vs. humain\n",
    "Permet de déterminer si un objet est un humain ou une automobile..."
   ]
  },
  {
   "cell_type": "markdown",
   "metadata": {},
   "source": [
    "On donne des faits:\n",
    "* Toyota et Honda sont des marques de voitures et\n",
    "* la prius est un modèle de Toyota."
   ]
  },
  {
   "cell_type": "code",
   "execution_count": 1,
   "metadata": {},
   "outputs": [],
   "source": [
    "marques <- c(\"toyota\", \"honda\")\n",
    "marques_alist <- pairlist(prius = \"toyota\")"
   ]
  },
  {
   "cell_type": "markdown",
   "metadata": {},
   "source": [
    "Règles d'inférence:\n",
    "* Une voiture se situe dans `marques_alist` et\n",
    "* un humain est tout ce qui n'est pas une voiture."
   ]
  },
  {
   "cell_type": "code",
   "execution_count": 2,
   "metadata": {},
   "outputs": [],
   "source": [
    "isCar <- function(x) marques_alist[x] %in% marques\n",
    "isHuman <- function(x) !isCar(x)"
   ]
  },
  {
   "cell_type": "markdown",
   "metadata": {},
   "source": [
    "On peut maintenant faire des requêtes."
   ]
  },
  {
   "cell_type": "code",
   "execution_count": 3,
   "metadata": {},
   "outputs": [
    {
     "data": {
      "text/html": [
       "TRUE"
      ],
      "text/latex": [
       "TRUE"
      ],
      "text/markdown": [
       "TRUE"
      ],
      "text/plain": [
       "[1] TRUE"
      ]
     },
     "metadata": {},
     "output_type": "display_data"
    }
   ],
   "source": [
    "isCar(\"prius\")"
   ]
  },
  {
   "cell_type": "code",
   "execution_count": 4,
   "metadata": {},
   "outputs": [
    {
     "data": {
      "text/html": [
       "FALSE"
      ],
      "text/latex": [
       "FALSE"
      ],
      "text/markdown": [
       "FALSE"
      ],
      "text/plain": [
       "[1] FALSE"
      ]
     },
     "metadata": {},
     "output_type": "display_data"
    }
   ],
   "source": [
    "isCar(\"patrick\")"
   ]
  },
  {
   "cell_type": "code",
   "execution_count": 5,
   "metadata": {},
   "outputs": [
    {
     "data": {
      "text/html": [
       "TRUE"
      ],
      "text/latex": [
       "TRUE"
      ],
      "text/markdown": [
       "TRUE"
      ],
      "text/plain": [
       "[1] TRUE"
      ]
     },
     "metadata": {},
     "output_type": "display_data"
    }
   ],
   "source": [
    "isHuman(\"patrick\")"
   ]
  },
  {
   "cell_type": "markdown",
   "metadata": {},
   "source": [
    "## Autocorrélation\n",
    "Calcule le coefficient d'autocorrélation (d'ordre 1) d'un vecteur."
   ]
  },
  {
   "cell_type": "markdown",
   "metadata": {},
   "source": [
    "Le package «magrittr» fournit (entre autres) l'opérateur de pipe `%>%`."
   ]
  },
  {
   "cell_type": "code",
   "execution_count": 6,
   "metadata": {},
   "outputs": [],
   "source": [
    "library(magrittr)"
   ]
  },
  {
   "cell_type": "code",
   "execution_count": 7,
   "metadata": {},
   "outputs": [
    {
     "data": {
      "text/html": [
       "<table>\n",
       "<caption>A matrix: 1 × 1 of type dbl</caption>\n",
       "<tbody>\n",
       "\t<tr><td>-0.008118768</td></tr>\n",
       "</tbody>\n",
       "</table>\n"
      ],
      "text/latex": [
       "A matrix: 1 × 1 of type dbl\n",
       "\\begin{tabular}{l}\n",
       "\t -0.008118768\\\\\n",
       "\\end{tabular}\n"
      ],
      "text/markdown": [
       "\n",
       "A matrix: 1 × 1 of type dbl\n",
       "\n",
       "| -0.008118768 |\n",
       "\n"
      ],
      "text/plain": [
       "     [,1]        \n",
       "[1,] -0.008118768"
      ]
     },
     "metadata": {},
     "output_type": "display_data"
    }
   ],
   "source": [
    "autoCor1 <- function(v)\n",
    "    v %>%\n",
    "        scale %>%\n",
    "        {t(.) %*% c(.[-1], .[1]) / (t(.) %*% .)}\n",
    "\n",
    "set.seed(42)\n",
    "autoCor1(runif(1e4))"
   ]
  },
  {
   "cell_type": "markdown",
   "metadata": {},
   "source": [
    "## Magrittr\n",
    "Courte présentation des trois principaux opérateurs offerts par le package magrittr: https://magrittr.tidyverse.org/"
   ]
  },
  {
   "cell_type": "markdown",
   "metadata": {},
   "source": [
    "### Forward-Pipe Operator\n",
    "`x %>% f` appelle la fonction `f` avec la variable `x` comme premier argument. Autrement dit, `x %>% f` est equivalent à `f(x)`."
   ]
  },
  {
   "cell_type": "markdown",
   "metadata": {},
   "source": [
    "Exemple simple:"
   ]
  },
  {
   "cell_type": "code",
   "execution_count": 8,
   "metadata": {},
   "outputs": [
    {
     "data": {
      "text/plain": [
       "     Min.   1st Qu.    Median      Mean   3rd Qu.      Max. \n",
       "0.0000264 0.2399163 0.4999710 0.4970410 0.7457418 0.9999925 "
      ]
     },
     "metadata": {},
     "output_type": "display_data"
    },
    {
     "data": {
      "text/plain": [
       "     Min.   1st Qu.    Median      Mean   3rd Qu.      Max. \n",
       "0.0000264 0.2399163 0.4999710 0.4970410 0.7457418 0.9999925 "
      ]
     },
     "metadata": {},
     "output_type": "display_data"
    }
   ],
   "source": [
    "v <- runif(1e4)\n",
    "\n",
    "v %>% summary\n",
    "summary(v)"
   ]
  },
  {
   "cell_type": "markdown",
   "metadata": {},
   "source": [
    "La fonction quantile prend deux arguments. On remarque que `v` est toujours passé comme premier argument."
   ]
  },
  {
   "cell_type": "code",
   "execution_count": 9,
   "metadata": {},
   "outputs": [
    {
     "data": {
      "text/html": [
       "<style>\n",
       ".dl-inline {width: auto; margin:0; padding: 0}\n",
       ".dl-inline>dt, .dl-inline>dd {float: none; width: auto; display: inline-block}\n",
       ".dl-inline>dt::after {content: \":\\0020\"; padding-right: .5ex}\n",
       ".dl-inline>dt:not(:first-of-type) {padding-left: .5ex}\n",
       "</style><dl class=dl-inline><dt>0%</dt><dd>2.63536348938942e-05</dd><dt>25%</dt><dd>0.239916329388507</dd><dt>50%</dt><dd>0.499970986624248</dd><dt>75%</dt><dd>0.745741762511898</dd><dt>100%</dt><dd>0.999992478871718</dd></dl>\n"
      ],
      "text/latex": [
       "\\begin{description*}\n",
       "\\item[0\\textbackslash{}\\%] 2.63536348938942e-05\n",
       "\\item[25\\textbackslash{}\\%] 0.239916329388507\n",
       "\\item[50\\textbackslash{}\\%] 0.499970986624248\n",
       "\\item[75\\textbackslash{}\\%] 0.745741762511898\n",
       "\\item[100\\textbackslash{}\\%] 0.999992478871718\n",
       "\\end{description*}\n"
      ],
      "text/markdown": [
       "0%\n",
       ":   2.63536348938942e-0525%\n",
       ":   0.23991632938850750%\n",
       ":   0.49997098662424875%\n",
       ":   0.745741762511898100%\n",
       ":   0.999992478871718\n",
       "\n"
      ],
      "text/plain": [
       "          0%          25%          50%          75%         100% \n",
       "2.635363e-05 2.399163e-01 4.999710e-01 7.457418e-01 9.999925e-01 "
      ]
     },
     "metadata": {},
     "output_type": "display_data"
    }
   ],
   "source": [
    "v %>% quantile(seq(0, 1, 0.25))"
   ]
  },
  {
   "cell_type": "markdown",
   "metadata": {},
   "source": [
    "On peut utiliser `.` pour réutiliser l'argument de gauche. "
   ]
  },
  {
   "cell_type": "code",
   "execution_count": 10,
   "metadata": {},
   "outputs": [
    {
     "data": {
      "text/html": [
       "<table>\n",
       "<caption>A data.frame: 50 × 4</caption>\n",
       "<thead>\n",
       "\t<tr><th scope=col>speed</th><th scope=col>dist</th><th scope=col>speed</th><th scope=col>dist</th></tr>\n",
       "\t<tr><th scope=col>&lt;dbl&gt;</th><th scope=col>&lt;dbl&gt;</th><th scope=col>&lt;dbl&gt;</th><th scope=col>&lt;dbl&gt;</th></tr>\n",
       "</thead>\n",
       "<tbody>\n",
       "\t<tr><td> 4</td><td>  2</td><td> 4</td><td>  2</td></tr>\n",
       "\t<tr><td> 4</td><td> 10</td><td> 4</td><td> 10</td></tr>\n",
       "\t<tr><td> 7</td><td>  4</td><td> 7</td><td>  4</td></tr>\n",
       "\t<tr><td> 7</td><td> 22</td><td> 7</td><td> 22</td></tr>\n",
       "\t<tr><td> 8</td><td> 16</td><td> 8</td><td> 16</td></tr>\n",
       "\t<tr><td> 9</td><td> 10</td><td> 9</td><td> 10</td></tr>\n",
       "\t<tr><td>10</td><td> 18</td><td>10</td><td> 18</td></tr>\n",
       "\t<tr><td>10</td><td> 26</td><td>10</td><td> 26</td></tr>\n",
       "\t<tr><td>10</td><td> 34</td><td>10</td><td> 34</td></tr>\n",
       "\t<tr><td>11</td><td> 17</td><td>11</td><td> 17</td></tr>\n",
       "\t<tr><td>11</td><td> 28</td><td>11</td><td> 28</td></tr>\n",
       "\t<tr><td>12</td><td> 14</td><td>12</td><td> 14</td></tr>\n",
       "\t<tr><td>12</td><td> 20</td><td>12</td><td> 20</td></tr>\n",
       "\t<tr><td>12</td><td> 24</td><td>12</td><td> 24</td></tr>\n",
       "\t<tr><td>12</td><td> 28</td><td>12</td><td> 28</td></tr>\n",
       "\t<tr><td>13</td><td> 26</td><td>13</td><td> 26</td></tr>\n",
       "\t<tr><td>13</td><td> 34</td><td>13</td><td> 34</td></tr>\n",
       "\t<tr><td>13</td><td> 34</td><td>13</td><td> 34</td></tr>\n",
       "\t<tr><td>13</td><td> 46</td><td>13</td><td> 46</td></tr>\n",
       "\t<tr><td>14</td><td> 26</td><td>14</td><td> 26</td></tr>\n",
       "\t<tr><td>14</td><td> 36</td><td>14</td><td> 36</td></tr>\n",
       "\t<tr><td>14</td><td> 60</td><td>14</td><td> 60</td></tr>\n",
       "\t<tr><td>14</td><td> 80</td><td>14</td><td> 80</td></tr>\n",
       "\t<tr><td>15</td><td> 20</td><td>15</td><td> 20</td></tr>\n",
       "\t<tr><td>15</td><td> 26</td><td>15</td><td> 26</td></tr>\n",
       "\t<tr><td>15</td><td> 54</td><td>15</td><td> 54</td></tr>\n",
       "\t<tr><td>16</td><td> 32</td><td>16</td><td> 32</td></tr>\n",
       "\t<tr><td>16</td><td> 40</td><td>16</td><td> 40</td></tr>\n",
       "\t<tr><td>17</td><td> 32</td><td>17</td><td> 32</td></tr>\n",
       "\t<tr><td>17</td><td> 40</td><td>17</td><td> 40</td></tr>\n",
       "\t<tr><td>17</td><td> 50</td><td>17</td><td> 50</td></tr>\n",
       "\t<tr><td>18</td><td> 42</td><td>18</td><td> 42</td></tr>\n",
       "\t<tr><td>18</td><td> 56</td><td>18</td><td> 56</td></tr>\n",
       "\t<tr><td>18</td><td> 76</td><td>18</td><td> 76</td></tr>\n",
       "\t<tr><td>18</td><td> 84</td><td>18</td><td> 84</td></tr>\n",
       "\t<tr><td>19</td><td> 36</td><td>19</td><td> 36</td></tr>\n",
       "\t<tr><td>19</td><td> 46</td><td>19</td><td> 46</td></tr>\n",
       "\t<tr><td>19</td><td> 68</td><td>19</td><td> 68</td></tr>\n",
       "\t<tr><td>20</td><td> 32</td><td>20</td><td> 32</td></tr>\n",
       "\t<tr><td>20</td><td> 48</td><td>20</td><td> 48</td></tr>\n",
       "\t<tr><td>20</td><td> 52</td><td>20</td><td> 52</td></tr>\n",
       "\t<tr><td>20</td><td> 56</td><td>20</td><td> 56</td></tr>\n",
       "\t<tr><td>20</td><td> 64</td><td>20</td><td> 64</td></tr>\n",
       "\t<tr><td>22</td><td> 66</td><td>22</td><td> 66</td></tr>\n",
       "\t<tr><td>23</td><td> 54</td><td>23</td><td> 54</td></tr>\n",
       "\t<tr><td>24</td><td> 70</td><td>24</td><td> 70</td></tr>\n",
       "\t<tr><td>24</td><td> 92</td><td>24</td><td> 92</td></tr>\n",
       "\t<tr><td>24</td><td> 93</td><td>24</td><td> 93</td></tr>\n",
       "\t<tr><td>24</td><td>120</td><td>24</td><td>120</td></tr>\n",
       "\t<tr><td>25</td><td> 85</td><td>25</td><td> 85</td></tr>\n",
       "</tbody>\n",
       "</table>\n"
      ],
      "text/latex": [
       "A data.frame: 50 × 4\n",
       "\\begin{tabular}{llll}\n",
       " speed & dist & speed & dist\\\\\n",
       " <dbl> & <dbl> & <dbl> & <dbl>\\\\\n",
       "\\hline\n",
       "\t  4 &   2 &  4 &   2\\\\\n",
       "\t  4 &  10 &  4 &  10\\\\\n",
       "\t  7 &   4 &  7 &   4\\\\\n",
       "\t  7 &  22 &  7 &  22\\\\\n",
       "\t  8 &  16 &  8 &  16\\\\\n",
       "\t  9 &  10 &  9 &  10\\\\\n",
       "\t 10 &  18 & 10 &  18\\\\\n",
       "\t 10 &  26 & 10 &  26\\\\\n",
       "\t 10 &  34 & 10 &  34\\\\\n",
       "\t 11 &  17 & 11 &  17\\\\\n",
       "\t 11 &  28 & 11 &  28\\\\\n",
       "\t 12 &  14 & 12 &  14\\\\\n",
       "\t 12 &  20 & 12 &  20\\\\\n",
       "\t 12 &  24 & 12 &  24\\\\\n",
       "\t 12 &  28 & 12 &  28\\\\\n",
       "\t 13 &  26 & 13 &  26\\\\\n",
       "\t 13 &  34 & 13 &  34\\\\\n",
       "\t 13 &  34 & 13 &  34\\\\\n",
       "\t 13 &  46 & 13 &  46\\\\\n",
       "\t 14 &  26 & 14 &  26\\\\\n",
       "\t 14 &  36 & 14 &  36\\\\\n",
       "\t 14 &  60 & 14 &  60\\\\\n",
       "\t 14 &  80 & 14 &  80\\\\\n",
       "\t 15 &  20 & 15 &  20\\\\\n",
       "\t 15 &  26 & 15 &  26\\\\\n",
       "\t 15 &  54 & 15 &  54\\\\\n",
       "\t 16 &  32 & 16 &  32\\\\\n",
       "\t 16 &  40 & 16 &  40\\\\\n",
       "\t 17 &  32 & 17 &  32\\\\\n",
       "\t 17 &  40 & 17 &  40\\\\\n",
       "\t 17 &  50 & 17 &  50\\\\\n",
       "\t 18 &  42 & 18 &  42\\\\\n",
       "\t 18 &  56 & 18 &  56\\\\\n",
       "\t 18 &  76 & 18 &  76\\\\\n",
       "\t 18 &  84 & 18 &  84\\\\\n",
       "\t 19 &  36 & 19 &  36\\\\\n",
       "\t 19 &  46 & 19 &  46\\\\\n",
       "\t 19 &  68 & 19 &  68\\\\\n",
       "\t 20 &  32 & 20 &  32\\\\\n",
       "\t 20 &  48 & 20 &  48\\\\\n",
       "\t 20 &  52 & 20 &  52\\\\\n",
       "\t 20 &  56 & 20 &  56\\\\\n",
       "\t 20 &  64 & 20 &  64\\\\\n",
       "\t 22 &  66 & 22 &  66\\\\\n",
       "\t 23 &  54 & 23 &  54\\\\\n",
       "\t 24 &  70 & 24 &  70\\\\\n",
       "\t 24 &  92 & 24 &  92\\\\\n",
       "\t 24 &  93 & 24 &  93\\\\\n",
       "\t 24 & 120 & 24 & 120\\\\\n",
       "\t 25 &  85 & 25 &  85\\\\\n",
       "\\end{tabular}\n"
      ],
      "text/markdown": [
       "\n",
       "A data.frame: 50 × 4\n",
       "\n",
       "| speed &lt;dbl&gt; | dist &lt;dbl&gt; | speed &lt;dbl&gt; | dist &lt;dbl&gt; |\n",
       "|---|---|---|---|\n",
       "|  4 |   2 |  4 |   2 |\n",
       "|  4 |  10 |  4 |  10 |\n",
       "|  7 |   4 |  7 |   4 |\n",
       "|  7 |  22 |  7 |  22 |\n",
       "|  8 |  16 |  8 |  16 |\n",
       "|  9 |  10 |  9 |  10 |\n",
       "| 10 |  18 | 10 |  18 |\n",
       "| 10 |  26 | 10 |  26 |\n",
       "| 10 |  34 | 10 |  34 |\n",
       "| 11 |  17 | 11 |  17 |\n",
       "| 11 |  28 | 11 |  28 |\n",
       "| 12 |  14 | 12 |  14 |\n",
       "| 12 |  20 | 12 |  20 |\n",
       "| 12 |  24 | 12 |  24 |\n",
       "| 12 |  28 | 12 |  28 |\n",
       "| 13 |  26 | 13 |  26 |\n",
       "| 13 |  34 | 13 |  34 |\n",
       "| 13 |  34 | 13 |  34 |\n",
       "| 13 |  46 | 13 |  46 |\n",
       "| 14 |  26 | 14 |  26 |\n",
       "| 14 |  36 | 14 |  36 |\n",
       "| 14 |  60 | 14 |  60 |\n",
       "| 14 |  80 | 14 |  80 |\n",
       "| 15 |  20 | 15 |  20 |\n",
       "| 15 |  26 | 15 |  26 |\n",
       "| 15 |  54 | 15 |  54 |\n",
       "| 16 |  32 | 16 |  32 |\n",
       "| 16 |  40 | 16 |  40 |\n",
       "| 17 |  32 | 17 |  32 |\n",
       "| 17 |  40 | 17 |  40 |\n",
       "| 17 |  50 | 17 |  50 |\n",
       "| 18 |  42 | 18 |  42 |\n",
       "| 18 |  56 | 18 |  56 |\n",
       "| 18 |  76 | 18 |  76 |\n",
       "| 18 |  84 | 18 |  84 |\n",
       "| 19 |  36 | 19 |  36 |\n",
       "| 19 |  46 | 19 |  46 |\n",
       "| 19 |  68 | 19 |  68 |\n",
       "| 20 |  32 | 20 |  32 |\n",
       "| 20 |  48 | 20 |  48 |\n",
       "| 20 |  52 | 20 |  52 |\n",
       "| 20 |  56 | 20 |  56 |\n",
       "| 20 |  64 | 20 |  64 |\n",
       "| 22 |  66 | 22 |  66 |\n",
       "| 23 |  54 | 23 |  54 |\n",
       "| 24 |  70 | 24 |  70 |\n",
       "| 24 |  92 | 24 |  92 |\n",
       "| 24 |  93 | 24 |  93 |\n",
       "| 24 | 120 | 24 | 120 |\n",
       "| 25 |  85 | 25 |  85 |\n",
       "\n"
      ],
      "text/plain": [
       "   speed dist speed dist\n",
       "1   4      2   4      2 \n",
       "2   4     10   4     10 \n",
       "3   7      4   7      4 \n",
       "4   7     22   7     22 \n",
       "5   8     16   8     16 \n",
       "6   9     10   9     10 \n",
       "7  10     18  10     18 \n",
       "8  10     26  10     26 \n",
       "9  10     34  10     34 \n",
       "10 11     17  11     17 \n",
       "11 11     28  11     28 \n",
       "12 12     14  12     14 \n",
       "13 12     20  12     20 \n",
       "14 12     24  12     24 \n",
       "15 12     28  12     28 \n",
       "16 13     26  13     26 \n",
       "17 13     34  13     34 \n",
       "18 13     34  13     34 \n",
       "19 13     46  13     46 \n",
       "20 14     26  14     26 \n",
       "21 14     36  14     36 \n",
       "22 14     60  14     60 \n",
       "23 14     80  14     80 \n",
       "24 15     20  15     20 \n",
       "25 15     26  15     26 \n",
       "26 15     54  15     54 \n",
       "27 16     32  16     32 \n",
       "28 16     40  16     40 \n",
       "29 17     32  17     32 \n",
       "30 17     40  17     40 \n",
       "31 17     50  17     50 \n",
       "32 18     42  18     42 \n",
       "33 18     56  18     56 \n",
       "34 18     76  18     76 \n",
       "35 18     84  18     84 \n",
       "36 19     36  19     36 \n",
       "37 19     46  19     46 \n",
       "38 19     68  19     68 \n",
       "39 20     32  20     32 \n",
       "40 20     48  20     48 \n",
       "41 20     52  20     52 \n",
       "42 20     56  20     56 \n",
       "43 20     64  20     64 \n",
       "44 22     66  22     66 \n",
       "45 23     54  23     54 \n",
       "46 24     70  24     70 \n",
       "47 24     92  24     92 \n",
       "48 24     93  24     93 \n",
       "49 24    120  24    120 \n",
       "50 25     85  25     85 "
      ]
     },
     "metadata": {},
     "output_type": "display_data"
    }
   ],
   "source": [
    "cars %>% cbind(., .)"
   ]
  },
  {
   "cell_type": "markdown",
   "metadata": {},
   "source": [
    "Même lorsqu'on utilise `.`, la variable de gauche est passée comme premier argument à la fonction de droite. Pour empêcher ce comportement, on peut utiliser la syntaxe `{}`."
   ]
  },
  {
   "cell_type": "code",
   "execution_count": 11,
   "metadata": {},
   "outputs": [
    {
     "data": {
      "text/plain": [
       "\n",
       "Call:\n",
       "lm(formula = speed ~ dist, data = .)\n",
       "\n",
       "Coefficients:\n",
       "(Intercept)         dist  \n",
       "     8.2839       0.1656  \n"
      ]
     },
     "metadata": {},
     "output_type": "display_data"
    }
   ],
   "source": [
    "cars %>% {lm(speed ~ dist, data = .)}"
   ]
  },
  {
   "cell_type": "markdown",
   "metadata": {},
   "source": [
    "En fait, la syntaxe précédente est encore plus puissante; elle permet de créer des fonctions anonymes. Pour un exemple de cette utilisation, voir la fonction autoCor1 de la section précédente."
   ]
  },
  {
   "cell_type": "markdown",
   "metadata": {},
   "source": [
    "## Assignment-Pipe Operator\n",
    "Fonctionne de la même manière que le Forward-Pipe. La différence est que le résultat est stocké dans la variable de gauche."
   ]
  },
  {
   "cell_type": "code",
   "execution_count": 12,
   "metadata": {},
   "outputs": [
    {
     "data": {
      "text/html": [
       "0.497040989218745"
      ],
      "text/latex": [
       "0.497040989218745"
      ],
      "text/markdown": [
       "0.497040989218745"
      ],
      "text/plain": [
       "[1] 0.497041"
      ]
     },
     "metadata": {},
     "output_type": "display_data"
    },
    {
     "data": {
      "text/html": [
       "0.28947729189284"
      ],
      "text/latex": [
       "0.28947729189284"
      ],
      "text/markdown": [
       "0.28947729189284"
      ],
      "text/plain": [
       "[1] 0.2894773"
      ]
     },
     "metadata": {},
     "output_type": "display_data"
    }
   ],
   "source": [
    "mean(v)\n",
    "sd(v)"
   ]
  },
  {
   "cell_type": "code",
   "execution_count": 13,
   "metadata": {},
   "outputs": [],
   "source": [
    "v %<>% scale"
   ]
  },
  {
   "cell_type": "code",
   "execution_count": 14,
   "metadata": {},
   "outputs": [
    {
     "data": {
      "text/html": [
       "-6.49333451591128e-17"
      ],
      "text/latex": [
       "-6.49333451591128e-17"
      ],
      "text/markdown": [
       "-6.49333451591128e-17"
      ],
      "text/plain": [
       "[1] -6.493335e-17"
      ]
     },
     "metadata": {},
     "output_type": "display_data"
    },
    {
     "data": {
      "text/html": [
       "1"
      ],
      "text/latex": [
       "1"
      ],
      "text/markdown": [
       "1"
      ],
      "text/plain": [
       "[1] 1"
      ]
     },
     "metadata": {},
     "output_type": "display_data"
    }
   ],
   "source": [
    "mean(v)\n",
    "sd(v)"
   ]
  },
  {
   "cell_type": "markdown",
   "metadata": {},
   "source": [
    "## Exposition-Pipe Operator\n",
    "Permet d'exécuter du code à l'intérieur d'un environnement généré par un objet. Équivalent à la fonction `with`."
   ]
  },
  {
   "cell_type": "code",
   "execution_count": 15,
   "metadata": {},
   "outputs": [
    {
     "data": {
      "text/plain": [
       "\n",
       "Call:\n",
       "lm(formula = speed ~ dist)\n",
       "\n",
       "Coefficients:\n",
       "(Intercept)         dist  \n",
       "     8.2839       0.1656  \n"
      ]
     },
     "metadata": {},
     "output_type": "display_data"
    }
   ],
   "source": [
    "cars %$% lm(speed ~ dist)"
   ]
  }
 ],
 "metadata": {
  "kernelspec": {
   "display_name": "R",
   "language": "R",
   "name": "ir"
  },
  "language_info": {
   "codemirror_mode": "r",
   "file_extension": ".r",
   "mimetype": "text/x-r-source",
   "name": "R",
   "pygments_lexer": "r",
   "version": "4.0.2"
  }
 },
 "nbformat": 4,
 "nbformat_minor": 4
}
