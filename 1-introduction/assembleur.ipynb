{
 "cells": [
  {
   "cell_type": "markdown",
   "metadata": {},
   "source": [
    "# Exemples de code assembleur."
   ]
  },
  {
   "cell_type": "markdown",
   "metadata": {},
   "source": [
    "## Multiplication\n",
    "On exploite le fait que $x \\times y = x + \\cdots + x$. Les régistres `eax` et `edx` contiennent $x$ alors que `ecx` content $y$. La fonction `multiply`\n",
    "\n",
    "* fait la somme de `eax` et `ecx`, stocke le résultat dans `eax` (ligne 1),\n",
    "* décrémente `ecx` de 1 (ligne 2),\n",
    "* recommence tant que `ecx` contient une valeur supérieure à 1 (ligne 3 et 4).\n",
    "\n",
    "Dans l'exemple ci-dessous, $x = 2$ et $y = 4$. L'instruction `call` permet d'appeler la procédure `multiply`. "
   ]
  },
  {
   "cell_type": "code",
   "execution_count": 13,
   "metadata": {},
   "outputs": [
    {
     "data": {
      "text/html": [
       "Changes: <br /><table><tr><th>Type</th><th>Identifier</th><th>Value</th><tr><td>Register</td><td>EAX</td>\n",
       "            <td>8</td></tr><tr><td>Register</td><td>ECX</td>\n",
       "            <td>1</td></tr><tr><td>Register</td><td>EDX</td>\n",
       "            <td>2</td></tr><tr><td>Memory</td><td>0</td>\n",
       "            <td>2</td></tr><tr><td>Flag</td><td>SF</td>\n",
       "            <td>0</td></tr><tr><td>Flag</td><td>ZF</td>\n",
       "            <td>1</td></tr></table>"
      ]
     },
     "metadata": {},
     "output_type": "display_data"
    }
   ],
   "source": [
    "mov eax, 2\n",
    "mov edx, 2\n",
    "mov ecx, 4\n",
    "call multiply\n",
    "jmp end\n",
    "\n",
    "multiply: add eax, edx\n",
    "          dec ecx\n",
    "          cmp ecx, 1\n",
    "          jg multiply\n",
    "          ret\n",
    "          \n",
    "end: mov [0], edx"
   ]
  }
 ],
 "metadata": {
  "kernelspec": {
   "display_name": "Intel",
   "language": "",
   "name": "intel"
  },
  "language_info": {
   "file_extension": "x86",
   "mimetype": "intel",
   "name": "intel"
  }
 },
 "nbformat": 4,
 "nbformat_minor": 4
}
