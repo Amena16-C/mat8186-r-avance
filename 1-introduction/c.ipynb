{
 "cells": [
  {
   "cell_type": "markdown",
   "metadata": {},
   "source": [
    "# Exemples de code C."
   ]
  },
  {
   "cell_type": "markdown",
   "metadata": {},
   "source": [
    "## Allocation dynamique.\n",
    "L'espace mémoire réservé à la variable `t` est alloué dynamiquement. Chacune des entrées de `t` est initialisé par un nombre généré (pseudo-)aléatoirement. Le programme affiche ensuite `t` avant de libérer la mémoire qui lui a été alloué."
   ]
  },
  {
   "cell_type": "code",
   "execution_count": 1,
   "metadata": {},
   "outputs": [
    {
     "name": "stdout",
     "output_type": "stream",
     "text": [
      "1804289383\n",
      "846930886\n",
      "1681692777\n",
      "1714636915\n",
      "1957747793\n"
     ]
    }
   ],
   "source": [
    "#include <stdio.h>\n",
    "#include <stdlib.h>\n",
    "\n",
    "int main(int argc, char** argv){\n",
    "    // Déclaration des variables.\n",
    "    unsigned int* t;\n",
    "    unsigned int n;\n",
    "    \n",
    "    // Initialisation des variables.\n",
    "    n = 5;\n",
    "    t = (unsigned int*)malloc(n * sizeof(unsigned int));\n",
    "    \n",
    "    // Initialise le tableau avec des valeurs \"aléatoires\".\n",
    "    for (int k = 0; k < n; k++){\n",
    "        t[k] = rand();\n",
    "    }\n",
    "    \n",
    "    // Affiche le résultat.\n",
    "    for  (int k = 0; k < n; k++){\n",
    "        printf(\"%d\\n\", t[k]);\n",
    "    }\n",
    "    \n",
    "    // Libère la mémoire allouée dynamiquement.\n",
    "    free(t);\n",
    "    return 0;\n",
    "}"
   ]
  }
 ],
 "metadata": {
  "kernelspec": {
   "display_name": "C",
   "language": "c",
   "name": "c"
  },
  "language_info": {
   "file_extension": ".c",
   "mimetype": "text/plain",
   "name": "c"
  }
 },
 "nbformat": 4,
 "nbformat_minor": 4
}
