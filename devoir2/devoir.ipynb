{
 "cells": [
  {
   "cell_type": "markdown",
   "metadata": {},
   "source": [
    "# Devoir 2: Méthode de la transformée inverse"
   ]
  },
  {
   "cell_type": "markdown",
   "metadata": {},
   "source": [
    "La méthode de la transformée inverse permet de simuler un échantillon d'une variable aléatoire $X$ de fonction de répartition $F$ à la condition d'être capable d'inverser cette dernière. Par exemple, soit\n",
    "\n",
    "$$\n",
    "X \\sim Exp(1).\n",
    "$$\n",
    "\n",
    "On a alors\n",
    "\n",
    "$$\n",
    "F^-(u) = \\log(1 - u).\n",
    "$$\n",
    "\n",
    "Pour simuler une réalisation de $X$, il suffit alors de simuler $u \\sim \\mathcal U(0, 1)$ et d'évaluer $F^-(u)$.\n",
    "\n",
    "Autre exemple: Soit $Y \\sim Ber(p)$ qui a donc\n",
    "\n",
    "$$\n",
    "G(x) = (1 - p) \\mathbb 1(0 \\leq x < 1) + \\mathbb 1(x \\geq 1)\n",
    "$$\n",
    "\n",
    "pour fonction de répartition et\n",
    "\n",
    "$$\n",
    "G^-(u) = \\mathbb 1(u > 1 - p)\n",
    "$$\n",
    "\n",
    "pour inverse (généralisé). On simule une réalisation de $Y$ de la même manière que pour $X$."
   ]
  },
  {
   "cell_type": "markdown",
   "metadata": {},
   "source": [
    "## Exercice 1"
   ]
  },
  {
   "cell_type": "markdown",
   "metadata": {},
   "source": [
    "### (a)"
   ]
  },
  {
   "cell_type": "markdown",
   "metadata": {},
   "source": [
    "Programmez une fonction qui retourne une fonction permettant de simuler des réalisations d'une variable aléatoire discrète en utilisant la méthode de la transformée inverse. Votre fonction doit respecter les contraintes suivantes:\n",
    "* Accepter un seul argument ` x `. Celui-ci est un vecteur réel de taille arbitraire.\n",
    "* Retourner une fonction (dite «simulateur») acceptant un seul argument ` n `. Celui-ci est un entier positif.\n",
    "* Tenir le compte de chacune des valeurs simulées.\n",
    "\n",
    "Si `x`  est un vecteur de longueur $ N $, la fonction retournée devra simuler les entiers $ 0, \\ldots, N - 1 $. La valeur $ k $ sera simulée avec probabilité proportionnelle à `x[k]`. Par exemple, les vecteurs `x1 = [0.2, 0.8]` et `x2 = [4, 16]` sont tous les deux valides et décrivent la même distribution de probabilité supportée sur $ \\{ 0, 1 \\} $. Par ailleurs, un appel au simulateur doit retourner un vecteur de `n` réalisations. "
   ]
  },
  {
   "cell_type": "markdown",
   "metadata": {},
   "source": [
    "### (b)"
   ]
  },
  {
   "cell_type": "markdown",
   "metadata": {},
   "source": [
    "Programmez une fonction permettant d'appliquer une transformation à un simulateur produit par la fonction que vous avez programmé en (a). Votre fonction doit respecter les contraintes suivantes:\n",
    "* Accepter deux arguments `sim` et `trans`. `sim` est le simulateur, `trans` la transformation. `trans` est une fonction bijective à image dans les entiers positifs.\n",
    "* Retourner une fonction (simulateur) permettant de simuler de la distribution originale de `sim` transformée par `trans`.\n",
    "\n",
    "Le compte des valeurs simulées pour le nouveau simulateur doit être initialisé à 0. "
   ]
  }
 ],
 "metadata": {
  "kernelspec": {
   "display_name": "R",
   "language": "R",
   "name": "ir"
  },
  "language_info": {
   "codemirror_mode": "r",
   "file_extension": ".r",
   "mimetype": "text/x-r-source",
   "name": "R",
   "pygments_lexer": "r",
   "version": "4.0.2"
  }
 },
 "nbformat": 4,
 "nbformat_minor": 4
}
