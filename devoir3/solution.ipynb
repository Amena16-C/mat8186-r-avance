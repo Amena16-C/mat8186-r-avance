{
 "cells": [
  {
   "cell_type": "markdown",
   "metadata": {},
   "source": [
    "# Devoir 3 (solution): MCMC & OOP"
   ]
  },
  {
   "cell_type": "markdown",
   "metadata": {},
   "source": [
    "## Exercice 1"
   ]
  },
  {
   "cell_type": "code",
   "execution_count": 1,
   "metadata": {},
   "outputs": [],
   "source": [
    "distr <- function(density, parameters, name) {\n",
    "    stopifnot(is.function(density),\n",
    "              is.list(parameters),\n",
    "              is.character(name))\n",
    "\n",
    "    structure(list(density = density,\n",
    "                   parameters = parameters,\n",
    "                   name = name),\n",
    "              class = \"distr\")\n",
    "}\n",
    "\n",
    "dens <- function(d, y, x, log, ...) UseMethod(\"dens\")\n",
    "\n",
    "dens.distr <- function(d, y, x = NULL, log = FALSE, ...)\n",
    "    do.call(d[[\"density\"]],\n",
    "            c(y = y, x = x, log = log, d[[\"parameters\"]]))\n",
    "\n",
    "print.distr <- function(x, ...) {\n",
    "    cat(x[[\"name\"]], \"\\n\")\n",
    "\n",
    "    for (name in names(x[[\"parameters\"]]))\n",
    "        cat(name, \"=\", x[[\"parameters\"]][[name]], \"\\n\")\n",
    "}"
   ]
  },
  {
   "cell_type": "code",
   "execution_count": 2,
   "metadata": {},
   "outputs": [],
   "source": [
    "ber <- distr(\\(y, ...) dbinom(x = y, size = 1L, ...),\n",
    "             list(prob = 0.75),\n",
    "             \"Bernoulli 3/4\")"
   ]
  },
  {
   "cell_type": "code",
   "execution_count": 3,
   "metadata": {},
   "outputs": [
    {
     "data": {
      "text/plain": [
       "Bernoulli 3/4 \n",
       "prob = 0.75 "
      ]
     },
     "metadata": {},
     "output_type": "display_data"
    }
   ],
   "source": [
    "ber"
   ]
  },
  {
   "cell_type": "code",
   "execution_count": 4,
   "metadata": {},
   "outputs": [
    {
     "data": {
      "text/html": [
       "0.25"
      ],
      "text/latex": [
       "0.25"
      ],
      "text/markdown": [
       "0.25"
      ],
      "text/plain": [
       "[1] 0.25"
      ]
     },
     "metadata": {},
     "output_type": "display_data"
    }
   ],
   "source": [
    "dens(ber, 0.0)"
   ]
  },
  {
   "cell_type": "code",
   "execution_count": 5,
   "metadata": {},
   "outputs": [
    {
     "data": {
      "text/html": [
       "-1.38629436111989"
      ],
      "text/latex": [
       "-1.38629436111989"
      ],
      "text/markdown": [
       "-1.38629436111989"
      ],
      "text/plain": [
       "[1] -1.386294"
      ]
     },
     "metadata": {},
     "output_type": "display_data"
    }
   ],
   "source": [
    "dens(ber, 0.0, log = TRUE)"
   ]
  },
  {
   "cell_type": "code",
   "execution_count": 6,
   "metadata": {},
   "outputs": [
    {
     "data": {
      "text/html": [
       "-Inf"
      ],
      "text/latex": [
       "-Inf"
      ],
      "text/markdown": [
       "-Inf"
      ],
      "text/plain": [
       "[1] -Inf"
      ]
     },
     "metadata": {},
     "output_type": "display_data"
    }
   ],
   "source": [
    "dens(ber, -42.0, log = TRUE)"
   ]
  },
  {
   "cell_type": "markdown",
   "metadata": {},
   "source": [
    "# Exercice 2"
   ]
  },
  {
   "cell_type": "code",
   "execution_count": 7,
   "metadata": {},
   "outputs": [],
   "source": [
    "kern <- function(density, parameters, name, sampler) {\n",
    "    stopifnot(is.function(sampler))\n",
    "\n",
    "    structure(c(distr(density, parameters, name),\n",
    "                sampler = sampler),\n",
    "              class = c(\"kern\", \"distr\"))\n",
    "}\n",
    "\n",
    "rand <- function(d, n, x, ...) UseMethod(\"rand\")\n",
    "\n",
    "rand.kern <- function(d, n, x, ...)\n",
    "    do.call(d[[\"sampler\"]], c(n = n, x = x, d[[\"parameters\"]]))"
   ]
  },
  {
   "cell_type": "code",
   "execution_count": 8,
   "metadata": {},
   "outputs": [],
   "source": [
    "gauss <- kern(\\(y, x, ...) dnorm(x = y, mean = x, ...),\n",
    "              list(sd = 1.0),\n",
    "              \"Normale mean = x, sd = 1\",\n",
    "              \\(n, x, ...) rnorm(n, mean = x, ...))"
   ]
  },
  {
   "cell_type": "code",
   "execution_count": 9,
   "metadata": {},
   "outputs": [
    {
     "data": {
      "text/html": [
       "0.3332246028918"
      ],
      "text/latex": [
       "0.3332246028918"
      ],
      "text/markdown": [
       "0.3332246028918"
      ],
      "text/plain": [
       "[1] 0.3332246"
      ]
     },
     "metadata": {},
     "output_type": "display_data"
    }
   ],
   "source": [
    "dens(gauss, 0.6, 0.0)"
   ]
  },
  {
   "cell_type": "code",
   "execution_count": 10,
   "metadata": {},
   "outputs": [
    {
     "data": {
      "text/html": [
       "0.0223945302948429"
      ],
      "text/latex": [
       "0.0223945302948429"
      ],
      "text/markdown": [
       "0.0223945302948429"
      ],
      "text/plain": [
       "[1] 0.02239453"
      ]
     },
     "metadata": {},
     "output_type": "display_data"
    }
   ],
   "source": [
    "dens(gauss, 0.6, 3.0)"
   ]
  },
  {
   "cell_type": "code",
   "execution_count": 11,
   "metadata": {},
   "outputs": [
    {
     "data": {
      "text/html": [
       "-1.09893853320467"
      ],
      "text/latex": [
       "-1.09893853320467"
      ],
      "text/markdown": [
       "-1.09893853320467"
      ],
      "text/plain": [
       "[1] -1.098939"
      ]
     },
     "metadata": {},
     "output_type": "display_data"
    }
   ],
   "source": [
    "dens(gauss, 0.6, 0.0, log = TRUE)"
   ]
  },
  {
   "cell_type": "code",
   "execution_count": 12,
   "metadata": {},
   "outputs": [
    {
     "data": {
      "text/html": [
       "<style>\n",
       ".list-inline {list-style: none; margin:0; padding: 0}\n",
       ".list-inline>li {display: inline-block}\n",
       ".list-inline>li:not(:last-child)::after {content: \"\\00b7\"; padding: 0 .5ex}\n",
       "</style>\n",
       "<ol class=list-inline><li>0.221919260542432</li><li>0.936745195523191</li><li>0.738926058936427</li><li>0.703328404510057</li><li>-0.29111733420687</li><li>-0.309824143595136</li><li>0.0322928574999223</li><li>0.9984053869283</li><li>2.1403912367423</li><li>-0.211587811501886</li></ol>\n"
      ],
      "text/latex": [
       "\\begin{enumerate*}\n",
       "\\item 0.221919260542432\n",
       "\\item 0.936745195523191\n",
       "\\item 0.738926058936427\n",
       "\\item 0.703328404510057\n",
       "\\item -0.29111733420687\n",
       "\\item -0.309824143595136\n",
       "\\item 0.0322928574999223\n",
       "\\item 0.9984053869283\n",
       "\\item 2.1403912367423\n",
       "\\item -0.211587811501886\n",
       "\\end{enumerate*}\n"
      ],
      "text/markdown": [
       "1. 0.221919260542432\n",
       "2. 0.936745195523191\n",
       "3. 0.738926058936427\n",
       "4. 0.703328404510057\n",
       "5. -0.29111733420687\n",
       "6. -0.309824143595136\n",
       "7. 0.0322928574999223\n",
       "8. 0.9984053869283\n",
       "9. 2.1403912367423\n",
       "10. -0.211587811501886\n",
       "\n",
       "\n"
      ],
      "text/plain": [
       " [1]  0.22191926  0.93674520  0.73892606  0.70332840 -0.29111733 -0.30982414\n",
       " [7]  0.03229286  0.99840539  2.14039124 -0.21158781"
      ]
     },
     "metadata": {},
     "output_type": "display_data"
    }
   ],
   "source": [
    "rand(gauss, 10, x = 0)"
   ]
  },
  {
   "cell_type": "code",
   "execution_count": 13,
   "metadata": {},
   "outputs": [
    {
     "data": {
      "text/html": [
       "<style>\n",
       ".list-inline {list-style: none; margin:0; padding: 0}\n",
       ".list-inline>li {display: inline-block}\n",
       ".list-inline>li:not(:last-child)::after {content: \"\\00b7\"; padding: 0 .5ex}\n",
       "</style>\n",
       "<ol class=list-inline><li>2.38785588065154</li><li>2.87927369560804</li><li>3.67838069742512</li><li>3.46537833556872</li><li>3.91068256696732</li><li>2.58547076070533</li><li>2.59865634769704</li><li>3.82038965293442</li><li>1.33139467520424</li><li>3.14322557241382</li></ol>\n"
      ],
      "text/latex": [
       "\\begin{enumerate*}\n",
       "\\item 2.38785588065154\n",
       "\\item 2.87927369560804\n",
       "\\item 3.67838069742512\n",
       "\\item 3.46537833556872\n",
       "\\item 3.91068256696732\n",
       "\\item 2.58547076070533\n",
       "\\item 2.59865634769704\n",
       "\\item 3.82038965293442\n",
       "\\item 1.33139467520424\n",
       "\\item 3.14322557241382\n",
       "\\end{enumerate*}\n"
      ],
      "text/markdown": [
       "1. 2.38785588065154\n",
       "2. 2.87927369560804\n",
       "3. 3.67838069742512\n",
       "4. 3.46537833556872\n",
       "5. 3.91068256696732\n",
       "6. 2.58547076070533\n",
       "7. 2.59865634769704\n",
       "8. 3.82038965293442\n",
       "9. 1.33139467520424\n",
       "10. 3.14322557241382\n",
       "\n",
       "\n"
      ],
      "text/plain": [
       " [1] 2.387856 2.879274 3.678381 3.465378 3.910683 2.585471 2.598656 3.820390\n",
       " [9] 1.331395 3.143226"
      ]
     },
     "metadata": {},
     "output_type": "display_data"
    }
   ],
   "source": [
    "rand(gauss, 10, x = 3)"
   ]
  },
  {
   "cell_type": "markdown",
   "metadata": {},
   "source": [
    "# Exercice 3"
   ]
  },
  {
   "cell_type": "code",
   "execution_count": 14,
   "metadata": {},
   "outputs": [],
   "source": [
    "mhsampler <- function(target, proposal) {\n",
    "    stopifnot(\"distr\" %in% class(target),\n",
    "              \"kern\" %in% class(proposal))\n",
    "\n",
    "    structure(list(target = target,\n",
    "                   proposal = proposal),\n",
    "              class = \"mhsampler\")\n",
    "}\n",
    "\n",
    "aratio <- function(sampler, y, x, log, ...) UseMethod(\"aratio\")\n",
    "\n",
    "aratio.mhsampler <- function(sampler, y, x, log = FALSE, ...) {\n",
    "    logπ <- \\(x) dens(sampler[[\"target\"]], y = x, log = TRUE)\n",
    "    logq <- \\(y, x) dens(sampler[[\"proposal\"]], y = y, x = x, log = TRUE)\n",
    "\n",
    "    logα <- logπ(y) + logq(x, y) - logπ(x) - logq(y, x)\n",
    "\n",
    "    if (!log)\n",
    "        return(exp(logα))\n",
    "    logα\n",
    "}\n",
    "\n",
    "rand.mhsampler <- function(sampler, n, init = 0.0, ...) {\n",
    "    prop <- \\(n, x = x) rand(sampler[[\"proposal\"]], n = n, x = x)\n",
    "\n",
    "    x <- init\n",
    "    replicate(n, {\n",
    "        y <- prop(1, x)\n",
    "\n",
    "        logα <- aratio(sampler, y, x, log = TRUE)\n",
    "\n",
    "        if (log(runif(1)) <= logα)\n",
    "            x <<- y\n",
    "\n",
    "        x\n",
    "    })\n",
    "}"
   ]
  },
  {
   "cell_type": "code",
   "execution_count": 15,
   "metadata": {},
   "outputs": [],
   "source": [
    "expo <- distr(\\(y, ...) dexp(x = y, ...),\n",
    "              list(rate = 1),\n",
    "              \"Exponentielle rate = 1\")"
   ]
  },
  {
   "cell_type": "code",
   "execution_count": 16,
   "metadata": {},
   "outputs": [],
   "source": [
    "mh_rexpo <- mhsampler(expo, gauss)"
   ]
  },
  {
   "cell_type": "code",
   "execution_count": 17,
   "metadata": {},
   "outputs": [
    {
     "data": {
      "text/html": [
       "<style>\n",
       ".list-inline {list-style: none; margin:0; padding: 0}\n",
       ".list-inline>li {display: inline-block}\n",
       ".list-inline>li:not(:last-child)::after {content: \"\\00b7\"; padding: 0 .5ex}\n",
       "</style>\n",
       "<ol class=list-inline><li>0</li><li>0</li><li>0</li><li>0</li><li>0</li><li>0</li><li>0</li><li>0.711336058795249</li><li>0.711336058795249</li><li>0.711336058795249</li><li>0.223145013551488</li><li>0.223145013551488</li><li>0.223145013551488</li><li>0.223145013551488</li><li>0.223145013551488</li><li>0.223145013551488</li><li>0.223145013551488</li><li>0.328120325901663</li><li>0.328120325901663</li><li>0.328120325901663</li><li>0.328120325901663</li><li>1.26771779393783</li><li>1.1065008249391</li><li>2.35115434001817</li><li>2.86161719942038</li></ol>\n"
      ],
      "text/latex": [
       "\\begin{enumerate*}\n",
       "\\item 0\n",
       "\\item 0\n",
       "\\item 0\n",
       "\\item 0\n",
       "\\item 0\n",
       "\\item 0\n",
       "\\item 0\n",
       "\\item 0.711336058795249\n",
       "\\item 0.711336058795249\n",
       "\\item 0.711336058795249\n",
       "\\item 0.223145013551488\n",
       "\\item 0.223145013551488\n",
       "\\item 0.223145013551488\n",
       "\\item 0.223145013551488\n",
       "\\item 0.223145013551488\n",
       "\\item 0.223145013551488\n",
       "\\item 0.223145013551488\n",
       "\\item 0.328120325901663\n",
       "\\item 0.328120325901663\n",
       "\\item 0.328120325901663\n",
       "\\item 0.328120325901663\n",
       "\\item 1.26771779393783\n",
       "\\item 1.1065008249391\n",
       "\\item 2.35115434001817\n",
       "\\item 2.86161719942038\n",
       "\\end{enumerate*}\n"
      ],
      "text/markdown": [
       "1. 0\n",
       "2. 0\n",
       "3. 0\n",
       "4. 0\n",
       "5. 0\n",
       "6. 0\n",
       "7. 0\n",
       "8. 0.711336058795249\n",
       "9. 0.711336058795249\n",
       "10. 0.711336058795249\n",
       "11. 0.223145013551488\n",
       "12. 0.223145013551488\n",
       "13. 0.223145013551488\n",
       "14. 0.223145013551488\n",
       "15. 0.223145013551488\n",
       "16. 0.223145013551488\n",
       "17. 0.223145013551488\n",
       "18. 0.328120325901663\n",
       "19. 0.328120325901663\n",
       "20. 0.328120325901663\n",
       "21. 0.328120325901663\n",
       "22. 1.26771779393783\n",
       "23. 1.1065008249391\n",
       "24. 2.35115434001817\n",
       "25. 2.86161719942038\n",
       "\n",
       "\n"
      ],
      "text/plain": [
       " [1] 0.0000000 0.0000000 0.0000000 0.0000000 0.0000000 0.0000000 0.0000000\n",
       " [8] 0.7113361 0.7113361 0.7113361 0.2231450 0.2231450 0.2231450 0.2231450\n",
       "[15] 0.2231450 0.2231450 0.2231450 0.3281203 0.3281203 0.3281203 0.3281203\n",
       "[22] 1.2677178 1.1065008 2.3511543 2.8616172"
      ]
     },
     "metadata": {},
     "output_type": "display_data"
    }
   ],
   "source": [
    "rand(mh_rexpo, 25)"
   ]
  },
  {
   "cell_type": "markdown",
   "metadata": {},
   "source": [
    "# Exemples"
   ]
  },
  {
   "cell_type": "markdown",
   "metadata": {},
   "source": [
    "## Exponentielle, noyeau gaussien"
   ]
  },
  {
   "cell_type": "code",
   "execution_count": 18,
   "metadata": {},
   "outputs": [
    {
     "data": {
      "image/png": "[encoded data removed]",
      "text/plain": [
       "Plot with title “Histogram of rand(mh_rexpo, 1000L)”"
      ]
     },
     "metadata": {
      "image/png": {
       "height": 420,
       "width": 420
      }
     },
     "output_type": "display_data"
    }
   ],
   "source": [
    "hist(rand(mh_rexpo, 1e3L), prob = TRUE,\n",
    "     xlim = c(0.0, 5.0))\n",
    "curve(dexp(x), from = 0L, to = 6L,\n",
    "      add = TRUE, lwd = 3L, col = \"red\")"
   ]
  },
  {
   "cell_type": "markdown",
   "metadata": {},
   "source": [
    "## T, noyeau gaussien"
   ]
  },
  {
   "cell_type": "code",
   "execution_count": 19,
   "metadata": {},
   "outputs": [],
   "source": [
    "tdistr <- distr(\\(y, ...) dt(x = y, ...),\n",
    "                list(df = 2.0),\n",
    "                \"T 1\")"
   ]
  },
  {
   "cell_type": "code",
   "execution_count": 20,
   "metadata": {},
   "outputs": [],
   "source": [
    "mh_t <- mhsampler(tdistr, gauss)"
   ]
  },
  {
   "cell_type": "code",
   "execution_count": 21,
   "metadata": {},
   "outputs": [
    {
     "data": {
      "image/png": "[encoded data removed]",
      "text/plain": [
       "Plot with title “Histogram of rand(mh_t, 1000L)”"
      ]
     },
     "metadata": {
      "image/png": {
       "height": 420,
       "width": 420
      }
     },
     "output_type": "display_data"
    }
   ],
   "source": [
    "hist(rand(mh_t, 1e3L), prob = TRUE,\n",
    "     xlim = c(-5.0, 5.0), ylim = c(0.0, 0.35))\n",
    "curve(dt(x, df = tdistr[[\"parameters\"]][[\"df\"]]), from = -6, to = 6L,\n",
    "      add = TRUE, lwd = 3L, col = \"red\")"
   ]
  }
 ],
 "metadata": {
  "kernelspec": {
   "display_name": "R",
   "language": "R",
   "name": "ir"
  },
  "language_info": {
   "codemirror_mode": "r",
   "file_extension": ".r",
   "mimetype": "text/x-r-source",
   "name": "R",
   "pygments_lexer": "r",
   "version": "4.1.1"
  }
 },
 "nbformat": 4,
 "nbformat_minor": 4
}
