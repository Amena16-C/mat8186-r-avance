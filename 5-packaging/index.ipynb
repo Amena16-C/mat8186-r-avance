{
 "cells": [
  {
   "cell_type": "code",
   "execution_count": 1,
   "metadata": {
    "slideshow": {
     "slide_type": "skip"
    }
   },
   "outputs": [
    {
     "name": "stderr",
     "output_type": "stream",
     "text": [
      "Warning message in unit(c(t, r, b, l), unit):\n",
      "“NAs introduced by coercion”\n"
     ]
    }
   ],
   "source": [
    "source(\"../utils.R\")\n",
    "options(repr.plot.width = 10, repr.plot.height = 10)"
   ]
  },
  {
   "cell_type": "markdown",
   "metadata": {
    "slideshow": {
     "slide_type": "slide"
    }
   },
   "source": [
    "# Packaging 📦\n",
    "\n",
    "<div class=\"subtitle1\" id=\"coursename\">\n",
    "Techniques avancées en programmation statistique <strong>R</strong>\n",
    "</div>\n",
    "<div class=\"subtitle2\" id=\"author\">\n",
    "Patrick Fournier<br>\n",
    "Automne 2021<br>\n",
    "Université du Québec À Montréal<br>\n",
    "</div>"
   ]
  },
  {
   "cell_type": "markdown",
   "metadata": {
    "slideshow": {
     "slide_type": "slide"
    },
    "tags": []
   },
   "source": [
    "## Cours 5: Packaging\n",
    "1. Qu'est-ce qu'un package?\n",
    "2. Structure d'un package **R**\n",
    "3. Documentation et namespaces"
   ]
  },
  {
   "cell_type": "markdown",
   "metadata": {
    "slideshow": {
     "slide_type": "subslide"
    }
   },
   "source": [
    "## Qu'est-ce qu'un package?\n",
    "\n",
    "* Description complète: [Writing R Extensions](https://cran.r-project.org/doc/manuals/r-release/R-exts.html)\n",
    "* Peu d'exigences:\n",
    "    + Un répertoire\n",
    "    + Nom du répertoire $ = $ nom du package (convention)\n",
    "    + Un fichier nommé `DESCRIPTION`\n",
    "    + `DESCRIPTION` contient les méta informations (nom, auteurs, description, ...)\n",
    "* Un tel package minimal n'est pas d'une grande utilité"
   ]
  },
  {
   "cell_type": "markdown",
   "metadata": {
    "slideshow": {
     "slide_type": "subslide"
    }
   },
   "source": [
    "### Terminologie\n",
    "\n",
    "* *Package*: Répertoire de fichiers ajoutant des fonctionnalités à **R**\n",
    "    + *source*: L'ensemble des fichiers utilisés pour le développement d'un package\n",
    "    + *bundle*: Tarball (archive) contenant le package\n",
    "    + *installed*: Ce que l'on obtient en exécutant `R CMD INSTALL` sur un package\n",
    "    + *binary package* 🪟: zip ou tarball contenant les fichiers d'un package installé"
   ]
  },
  {
   "cell_type": "markdown",
   "metadata": {
    "slideshow": {
     "slide_type": "subslide"
    }
   },
   "source": [
    "### Outils\n",
    "\n",
    "* Parfaitement possible de créer un package à la main\n",
    "* Package [devtools](https://devtools.r-lib.org/) simplifie le travail\n",
    "    + [Référence rapide (cheat sheet)](https://raw.githubusercontent.com/rstudio/cheatsheets/master/package-development.pdf)\n",
    "* Plusieurs fonctionalités de devtools sont intégrées à **R**Studio"
   ]
  },
  {
   "cell_type": "markdown",
   "metadata": {
    "slideshow": {
     "slide_type": "slide"
    }
   },
   "source": [
    "## Structure d'un package **R**\n",
    "### Squelette de **R**Studio\n",
    "\n",
    "* `.gitignore`: Fichiers ignorés par git\n",
    "* `.Rbuildignore`: Fichiers ignorés lors de la création du bundle\n",
    "* `<nom du projet>.Rproj`: Fichier de configuration de **R**Studio\n",
    "* `DESCRIPTION`: Métadonnées du package\n",
    "* `NAMESPACE`: Symboles importés/exportés\n",
    "* `man`: Documentation\n",
    "* `R`: Code **R**"
   ]
  },
  {
   "cell_type": "markdown",
   "metadata": {
    "slideshow": {
     "slide_type": "subslide"
    }
   },
   "source": [
    "### `DESCRIPTION`\n",
    "<div class=\"subtitle1\">\n",
    "    champs obligatoires\n",
    "</div>\n",
    "\n",
    "* `Package`: Nom du package\n",
    "* `Version`: Version du package\n",
    "* `License`: Licence sous laquelle votre package est distribué\n",
    "* `Title`: Description courte du package\n",
    "* `Description`: Description longue du package\n",
    "* `Author`: Auteurs du package (nom, e-mail et [roles](https://journal.r-project.org/archive/2012-1/RJournal_2012-1_Hornik~et~al.pdf))\n",
    "* `Maintainer`: Responsable (unique) du package (nom et e-mail)\n",
    "\n",
    "Par ailleurs,\n",
    "* Possible et *recommandé* de fournir un seul champ `Authors@R` en remplacement de `Author` et `Maintainer`\n",
    "* [Liste complète des codes MARC (pour les roles)](https://www.loc.gov/marc/relators/relaterm.html)\n",
    "\n",
    "[Détails](https://r-pkgs.org/description.html)"
   ]
  },
  {
   "cell_type": "markdown",
   "metadata": {
    "slideshow": {
     "slide_type": "subslide"
    }
   },
   "source": [
    "### `DESCRIPTION`\n",
    "<div class=\"subtitle1\">\n",
    "    champs facultatifs usuels\n",
    "</div>\n",
    "\n",
    "* `Copyright`: Détenteur du copyright (si différent de l'auteur)\n",
    "* `Date`: Date de sortie du package (yyyy-mm-dd)\n",
    "* `Depends`: Dépendances *attachées* du package\n",
    "    + À utiliser uniquement pour spécifier la version de **R** requise\n",
    "* `Suggest`: Packages utiles dont ne dépend pas le package courrant\n",
    "* `Imports`: Dépendances *non attachées* du package\n",
    "* `Collate`: Ordre de chargement des fichiers **R**\n",
    "    + Par défaut, ordre alphabétique\n",
    "* `URL`: Liste d'URL liés au package\n",
    "* `BugReports`: URL pour la soumission des rapports de bugs\n",
    "* `LazyData`: Les données doivent-elles être chargées paresseusement (i.e. à la demande)?\n",
    "* `ByteCompile`: Les package doit-il être byte compilé?\n",
    "    + Par défaut, `true`\n",
    "* `BuildVignette`: Les vignettes doivent-elles être construites?\n",
    "    + Par défaut, `true`\n",
    "* `NeedsCompilation` Le package nécessite-t-il une phase de compilation (yes/no)?"
   ]
  },
  {
   "cell_type": "markdown",
   "metadata": {
    "slideshow": {
     "slide_type": "subslide"
    }
   },
   "source": [
    "### `DESCRIPTION`\n",
    "<div class=\"subtitle1\">\n",
    "    Recommandations\n",
    "</div>\n",
    "\n",
    "* Possibilité d'utiliser des champs arbitraires\n",
    "* `Depends`ne devrait être utilisé que pour spécifier une version minimal de **R**\n",
    "    + Exemple: `Depends: R(>= 4.1)`\n",
    "* Les champs `Imports`, `Suggests`, `Enhances` et `Linkingto` ne devraient *jamais* être modifiés à la main $ \\Rightarrow $ `usethis::use_package`\n",
    "* Le champ `Authors@R` doit contenir un vecteur d'objets de classe `person`\n",
    "* [Liste complète des champs utilisés par **R**](https://cran.r-project.org/doc/manuals/r-release/R-exts.html#The-DESCRIPTION-file)"
   ]
  },
  {
   "cell_type": "markdown",
   "metadata": {
    "slideshow": {
     "slide_type": "slide"
    }
   },
   "source": [
    "## Documentation et namespace\n",
    "\n",
    "* Le répertoire `man/` contient la documentation\n",
    "* Pas nécessaire/souhaitable de la modifier par nous-mêmes\n",
    "* Package *roxygen2* génère la documentation automatiquement\n",
    "    + Repère les commentaires commeçant par `'` et les transforme en documentation\n",
    "* Mise à jour: `devtools::document`\n",
    "\n",
    "[Détails](https://r-pkgs.org/man.html)"
   ]
  },
  {
   "cell_type": "markdown",
   "metadata": {
    "slideshow": {
     "slide_type": "subslide"
    }
   },
   "source": [
    "### Exemple"
   ]
  },
  {
   "cell_type": "code",
   "execution_count": 2,
   "metadata": {
    "slideshow": {
     "slide_type": "-"
    }
   },
   "outputs": [],
   "source": [
    "#' Titre\n",
    "#'\n",
    "#' Le second paragraphe est toujours la description. Le premier\n",
    "#' paragraphe est le titre et ne devrait pas être plus long\n",
    "#' qu'une phrase. Ce paragraphe donne une description générale\n",
    "#' de l'objet à documenter.\n",
    "#'\n",
    "#' L'ensemble des paragraphes suivants contient les détails\n",
    "#' de l'objet à documenter."
   ]
  },
  {
   "cell_type": "markdown",
   "metadata": {
    "slideshow": {
     "slide_type": "subslide"
    }
   },
   "source": [
    "### Documentation\n",
    "\n",
    "* Il est d'usage de documenter le package lui-même\n",
    "* Documenter la chaîne de caractère `\"_PACKAGE\"`"
   ]
  },
  {
   "cell_type": "markdown",
   "metadata": {
    "slideshow": {
     "slide_type": "subslide"
    }
   },
   "source": [
    "### Documentation\n",
    "<div class=\"subtitle1\">\n",
    "    Tags Roxygen\n",
    "</div>\n",
    "\n",
    "Pour les fonctions:\n",
    "* `@param name description`: Décrit un des arguments d'une fonction\n",
    "* `@examples`: Code **R** valide\n",
    "* `@return`: Description de la valeur de retour d'une fonction"
   ]
  },
  {
   "cell_type": "markdown",
   "metadata": {
    "slideshow": {
     "slide_type": "fragment"
    }
   },
   "source": [
    "S3 (génériques et méthodes): se documentent comme des fonctions (puisque ce sont des fonctions)"
   ]
  },
  {
   "cell_type": "markdown",
   "metadata": {
    "slideshow": {
     "slide_type": "subslide"
    }
   },
   "source": [
    "### Exemple \n",
    "<div class=\"subtitle1\">\n",
    "    Shadowing\n",
    "</div>"
   ]
  },
  {
   "cell_type": "code",
   "execution_count": 3,
   "metadata": {
    "slideshow": {
     "slide_type": "-"
    }
   },
   "outputs": [
    {
     "data": {
      "text/html": [
       "'PK-5323'"
      ],
      "text/latex": [
       "'PK-5323'"
      ],
      "text/markdown": [
       "'PK-5323'"
      ],
      "text/plain": [
       "[1] \"PK-5323\""
      ]
     },
     "metadata": {},
     "output_type": "display_data"
    }
   ],
   "source": [
    "address <- function() \"PK-5323\"\n",
    "x <- 42\n",
    "address()"
   ]
  },
  {
   "cell_type": "code",
   "execution_count": 4,
   "metadata": {
    "slideshow": {
     "slide_type": "fragment"
    }
   },
   "outputs": [
    {
     "data": {
      "text/html": [
       "'0x560e0faa1e48'"
      ],
      "text/latex": [
       "'0x560e0faa1e48'"
      ],
      "text/markdown": [
       "'0x560e0faa1e48'"
      ],
      "text/plain": [
       "[1] \"0x560e0faa1e48\""
      ]
     },
     "metadata": {},
     "output_type": "display_data"
    }
   ],
   "source": [
    "pryr::address(x)"
   ]
  },
  {
   "cell_type": "code",
   "execution_count": 5,
   "metadata": {
    "slideshow": {
     "slide_type": "fragment"
    }
   },
   "outputs": [
    {
     "name": "stderr",
     "output_type": "stream",
     "text": [
      "\n",
      "Attaching package: ‘pryr’\n",
      "\n",
      "\n",
      "The following object is masked _by_ ‘.GlobalEnv’:\n",
      "\n",
      "    address\n",
      "\n",
      "\n"
     ]
    }
   ],
   "source": [
    "library(pryr)"
   ]
  },
  {
   "cell_type": "code",
   "execution_count": 6,
   "metadata": {
    "slideshow": {
     "slide_type": "fragment"
    }
   },
   "outputs": [
    {
     "ename": "ERROR",
     "evalue": "Error in address(x): unused argument (x)\n",
     "output_type": "error",
     "traceback": [
      "Error in address(x): unused argument (x)\nTraceback:\n"
     ]
    }
   ],
   "source": [
    "address(x)"
   ]
  },
  {
   "cell_type": "markdown",
   "metadata": {
    "slideshow": {
     "slide_type": "subslide"
    }
   },
   "source": [
    "### Namespace\n",
    "\n",
    "* La plupart des packages rendent disponible certains symboles\n",
    "* Pour éviter les conflits, chaque package possède son propre *namespace*\n",
    "* `library(pkg)`: *attache* `pkg`\n",
    "    + Symboles exportés par `pkg` disponible de l'*environement global*\n",
    "    + $ \\Rightarrow $ risque de conflit\n",
    "* Possibilité de *charger* un package sans l'attacher\n",
    "    + Symboles: disponibles\n",
    "    + Nécessité d'y référer explicitement: `::`\n",
    "    \n",
    "[Détails](https://r-pkgs.org/namespace.html)"
   ]
  },
  {
   "cell_type": "markdown",
   "metadata": {
    "slideshow": {
     "slide_type": "subslide"
    }
   },
   "source": [
    "### Namespace\n",
    "<div class=\"subtitle1\">\n",
    "    En pratique\n",
    "</div>\n",
    "\n",
    "* Controlé par le fichier `NAMESPACE`\n",
    "    + Ne devrait *Jamais* être modifié à la main\n",
    "* Peut être géré à partir de commentaires roxygen2 🤔\n",
    "* $ \\Rightarrow $ Chaque modification doit être suivie d'un `devtools::document()` pour prendre effet"
   ]
  },
  {
   "cell_type": "markdown",
   "metadata": {
    "slideshow": {
     "slide_type": "subslide"
    }
   },
   "source": [
    "### Namespace\n",
    "<div class=\"subtitle1\">\n",
    "    Importation\n",
    "</div>\n",
    "\n",
    "* 99% du temps: `Import` et `::`\n",
    "    + `Import: pkg` s'assure que `pkg` est installé\n",
    "    + `pkg::obj` charge automatiquement `pkg` sans l'attacher\n",
    "* Possible impact sur la performance causé par `::`\n",
    "* Solution: attacher `obj`\n",
    "    + Roxygen: `@importFrom pkg obj`"
   ]
  },
  {
   "cell_type": "markdown",
   "metadata": {
    "slideshow": {
     "slide_type": "subslide"
    }
   },
   "source": [
    "### Namespace\n",
    "<div class=\"subtitle1\">\n",
    "    Exportation\n",
    "</div>\n",
    "\n",
    "* Exportation $ \\Rightarrow $ ajouter une entrée dans `NAMESPACE`\n",
    "* Encore une fois, on utilise Roxygen!\n",
    "* Tag: `@export`\n",
    "* Détermine automatiquement si fonction \"normale\", méthode S3, etc."
   ]
  }
 ],
 "metadata": {
  "celltoolbar": "Slideshow",
  "kernelspec": {
   "display_name": "R",
   "language": "R",
   "name": "ir"
  },
  "language_info": {
   "codemirror_mode": "r",
   "file_extension": ".r",
   "mimetype": "text/x-r-source",
   "name": "R",
   "pygments_lexer": "r",
   "version": "4.1.1"
  },
  "livereveal": {
   "autolaunch": true
  },
  "rise": {
   "autolaunch": true,
   "controls": true,
   "controlsTutorial": true,
   "hash": true,
   "help": false,
   "hideinactivecursor": true,
   "mouseWheel": false,
   "overview": false,
   "pause": true,
   "scroll": true,
   "slideNumber": true,
   "theme": "black",
   "transition": "slide"
  }
 },
 "nbformat": 4,
 "nbformat_minor": 4
}
