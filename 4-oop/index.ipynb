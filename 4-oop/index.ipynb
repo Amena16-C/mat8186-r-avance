{
 "cells": [
  {
   "cell_type": "code",
   "execution_count": 1,
   "metadata": {
    "slideshow": {
     "slide_type": "skip"
    }
   },
   "outputs": [
    {
     "name": "stderr",
     "output_type": "stream",
     "text": [
      "Warning message in unit(c(t, r, b, l), unit):\n",
      "“NAs introduced by coercion”\n"
     ]
    }
   ],
   "source": [
    "source(\"../utils.R\")\n",
    "options(repr.plot.width = 10, repr.plot.height = 10)"
   ]
  },
  {
   "cell_type": "markdown",
   "metadata": {
    "slideshow": {
     "slide_type": "slide"
    }
   },
   "source": [
    "# Programmation orientée objet\n",
    "\n",
    "<div class=\"subtitle1\" id=\"coursename\">\n",
    "Techniques avancées en programmation statistique <strong>R</strong>\n",
    "</div>\n",
    "<div class=\"subtitle2\" id=\"author\">\n",
    "Patrick Fournier<br>\n",
    "Automne 2021<br>\n",
    "Université du Québec À Montréal<br>\n",
    "</div>"
   ]
  },
  {
   "cell_type": "markdown",
   "metadata": {
    "slideshow": {
     "slide_type": "slide"
    },
    "tags": []
   },
   "source": [
    "## Cours 4: Programmation orientée objet\n",
    "1. Introduction\n",
    "2. OOP et **R**\n",
    "3. S3"
   ]
  },
  {
   "cell_type": "markdown",
   "metadata": {
    "slideshow": {
     "slide_type": "slide"
    }
   },
   "source": [
    "## Introduction\n",
    "\n",
    "* Paradigme sous lequel le concept d'*objet* joue un rôle fondamental\n",
    "* Objet: peut représenter:\n",
    "    + Objet physique (table, chargé de cours...)\n",
    "    + Concept (matrice, paix dans le monde...)\n",
    "* Approche OO:\n",
    "    + Définir un ensemble d'objets\n",
    "    + Définir les interactions entre ces objets\n",
    "* De ce point de vue, possible dans la plupart des langages\n",
    "* Premier langage OO: Simula, 1962.\n",
    "    + Destiné aux simulations Monte Carlo 🧮"
   ]
  },
  {
   "cell_type": "markdown",
   "metadata": {
    "slideshow": {
     "slide_type": "subslide"
    }
   },
   "source": [
    "### Terminologie 1\n",
    "\n",
    "* *Classe*: Déclaration (parfois définition) de la structure interne d'un ensemble d'objets\n",
    "* *Slot*/*field*/*attribut*: Variable associée à un objet / une classe\n",
    "* *Méthode*: Fonction associée à un ou plusieurs objet(s) / classe(s)\n",
    "* *Héritage*: Processus par lequel une classe fille acquiert la structure d'une ou plusieurs classe(s) mère(s)\n",
    "* *Polymorphisme*: Une interface pour plusieurs entités de types différents\n",
    "* *Encapsulation*: Cacher l'implémentation à l'utilisateur"
   ]
  },
  {
   "cell_type": "markdown",
   "metadata": {
    "slideshow": {
     "slide_type": "subslide"
    }
   },
   "source": [
    "### Terminologie 2\n",
    "* *Message passing*: objets $ \\Rightarrow $ communiquent entre eux par messages\n",
    "    + *Message* $ = $ idée fondamentale de l'OOP originale (Alan Kay & Smalltalk)\n",
    "    + Souvent limités à des appels de méthodes (C++, Java...)\n",
    "    + Concept beaucoup plus large (Smalltalk, Groovy...)\n",
    "* *Fonction générique*: appels de méthodes $ \\Rightarrow $ *dispatchés* par des *fonctions génériques*\n",
    "    + Origines: Flavors (Lisp Machine Lisp) & CommonLoops (Common Lisp)\n",
    "    + Approche \"de base\" de **R**"
   ]
  },
  {
   "cell_type": "markdown",
   "metadata": {
    "slideshow": {
     "slide_type": "slide"
    }
   },
   "source": [
    "## OOP et **R**\n",
    "### Systèmes d'objets\n",
    "\n",
    "* *S3* ([Advanced R](https://adv-r.hadley.nz/s3.html))\n",
    "    + Fonctions génériques\n",
    "    + Pas (vraiment) de classe\n",
    "* *S4* ([Advanced R](https://adv-r.hadley.nz/s4.html))\n",
    "    + S3 $ + $ classes formelles\n",
    "* *Reference classes* (*RC*, *R5*)\n",
    "    + Message passing\n",
    "    + Instances mutables\n",
    "* *R6* ([Advanced R](https://adv-r.hadley.nz/r6.html), [Site officiel](https://r6.r-lib.org))\n",
    "    + \"Version améliorée\" de RC\n",
    "* *Closure*"
   ]
  },
  {
   "cell_type": "markdown",
   "metadata": {
    "slideshow": {
     "slide_type": "subslide"
    }
   },
   "source": [
    "### Choisir un système\n",
    "* S3\n",
    "    + Très informel\n",
    "    + Peu de fonctionnalités\n",
    "    + Facile à apprendre\n",
    "    + Facile à utiliser\n",
    "    + Suffisant pour un grand nombre d'utilisations\n",
    "* S4\n",
    "    + Moins performant\n",
    "    + Plus difficile à utiliser\n",
    "* RC\n",
    "    + Moins performant que R6\n",
    "    + Objets mutables\n",
    "    + Basé sur S4\n",
    "* R6\n",
    "    + Basé sur S3\n",
    "    + Essentiellement RC, mais \"mieux\" "
   ]
  },
  {
   "cell_type": "markdown",
   "metadata": {
    "slideshow": {
     "slide_type": "subslide"
    }
   },
   "source": [
    "### Choisir un système\n",
    "\n",
    "* Choix par défaut: S3\n",
    "* Si la mutabilité est importante: R6\n",
    "* Utilisez S4 si vous avez besoin\n",
    "    + Héritage multiple (plus d'une classe mère)\n",
    "    + Dispatch multiple (dispatch sur plusieurs arguments)\n",
    "    + Interaction avec [Bioconductor](https://www.bioconductor.org/)\n",
    "* Utilisez RC si vous êtes obligés!\n",
    "\n",
    "[Détails](https://adv-r.hadley.nz/oo-tradeoffs.html)"
   ]
  },
  {
   "cell_type": "markdown",
   "metadata": {
    "slideshow": {
     "slide_type": "slide"
    }
   },
   "source": [
    "## S3\n",
    "### Attribut `class`\n",
    "\n",
    "* S3 est basé sur une seule chose: l'*attribut class*\n",
    "* Vecteur de chaine de caractères (`character`)\n",
    "* Entrées ordonnées de la classe la plus spécifique à la moins spécifique"
   ]
  },
  {
   "cell_type": "markdown",
   "metadata": {
    "slideshow": {
     "slide_type": "subslide"
    }
   },
   "source": [
    "### S3: structure\n",
    "\n",
    "* Un objet S3 est composé de\n",
    "    + Un objet \"standard\"\n",
    "    + Un attribut `class`\n",
    "* Objet standard: souvent une `list`, mais aucune obligation"
   ]
  },
  {
   "cell_type": "code",
   "execution_count": 2,
   "metadata": {
    "slideshow": {
     "slide_type": "fragment"
    }
   },
   "outputs": [],
   "source": [
    "p1 <- c(1, 2)\n",
    "class(p1) <- c(\"point\", \"numeric\")"
   ]
  },
  {
   "cell_type": "code",
   "execution_count": 3,
   "metadata": {
    "slideshow": {
     "slide_type": "fragment"
    }
   },
   "outputs": [],
   "source": [
    "p2 <- c(1, 2)\n",
    "attributes(p2) <- list(class = c(\"point\", \"numeric\"))"
   ]
  },
  {
   "cell_type": "code",
   "execution_count": 4,
   "metadata": {
    "slideshow": {
     "slide_type": "fragment"
    }
   },
   "outputs": [],
   "source": [
    "p3 <- structure(c(3, 4), class = c(\"point\", \"numeric\"))"
   ]
  },
  {
   "cell_type": "markdown",
   "metadata": {
    "slideshow": {
     "slide_type": "subslide"
    }
   },
   "source": [
    "### S3: structure\n",
    "\n",
    "* $ \\Rightarrow $ Possible de changer la classe d'un objet a posteriori\n",
    "* Déconseillé, surtout si l'objet a été créé par quelqu'un d'autre"
   ]
  },
  {
   "cell_type": "markdown",
   "metadata": {
    "slideshow": {
     "slide_type": "subslide"
    }
   },
   "source": [
    "### Constructeur\n",
    "\n",
    "* L'appel à `class<-`, `attributes<-` ou `structure` n'est pas élégant, pratique ni sécuritaire\n",
    "* $ \\Rightarrow $ Il est d'usage de définir un (plusieurs) constructeur(s) 👷\n",
    "* Simple fonction qui se charge de l'appel\n",
    "    + Après avoir vérifié le type des arguments!\n",
    "* Habituellement, nom constructeur $ = $ nom classe"
   ]
  },
  {
   "cell_type": "code",
   "execution_count": 5,
   "metadata": {
    "slideshow": {
     "slide_type": "subslide"
    }
   },
   "outputs": [],
   "source": [
    "point <- function(v){\n",
    "    v <- as.numeric(v)\n",
    "    \n",
    "    stopifnot(identical(length(v), 2L))\n",
    "\n",
    "    structure(v, class = c(\"point\", class(v)))\n",
    "}"
   ]
  },
  {
   "cell_type": "code",
   "execution_count": 6,
   "metadata": {
    "slideshow": {
     "slide_type": "fragment"
    }
   },
   "outputs": [
    {
     "ename": "ERROR",
     "evalue": "Error in point(1:3): identical(length(v), 2L) is not TRUE\n",
     "output_type": "error",
     "traceback": [
      "Error in point(1:3): identical(length(v), 2L) is not TRUE\nTraceback:\n",
      "1. point(1:3)",
      "2. stopifnot(identical(length(v), 2L))   # at line 4 of file <text>"
     ]
    }
   ],
   "source": [
    "point(1:3)"
   ]
  },
  {
   "cell_type": "code",
   "execution_count": 7,
   "metadata": {
    "slideshow": {
     "slide_type": "fragment"
    }
   },
   "outputs": [
    {
     "name": "stderr",
     "output_type": "stream",
     "text": [
      "Warning message in point(letters[1:2]):\n",
      "“NAs introduced by coercion”\n"
     ]
    },
    {
     "data": {
      "text/html": [
       "<style>\n",
       ".list-inline {list-style: none; margin:0; padding: 0}\n",
       ".list-inline>li {display: inline-block}\n",
       ".list-inline>li:not(:last-child)::after {content: \"\\00b7\"; padding: 0 .5ex}\n",
       "</style>\n",
       "<ol class=list-inline><li>&lt;NA&gt;</li><li>&lt;NA&gt;</li></ol>\n"
      ],
      "text/latex": [
       "\\begin{enumerate*}\n",
       "\\item <NA>\n",
       "\\item <NA>\n",
       "\\end{enumerate*}\n"
      ],
      "text/markdown": [
       "1. &lt;NA&gt;\n",
       "2. &lt;NA&gt;\n",
       "\n",
       "\n"
      ],
      "text/plain": [
       "[1] NA NA\n",
       "attr(,\"class\")\n",
       "[1] \"point\"   \"numeric\""
      ]
     },
     "metadata": {},
     "output_type": "display_data"
    }
   ],
   "source": [
    "point(letters[1:2])"
   ]
  },
  {
   "cell_type": "code",
   "execution_count": 8,
   "metadata": {
    "slideshow": {
     "slide_type": "fragment"
    }
   },
   "outputs": [
    {
     "data": {
      "text/html": [
       "<style>\n",
       ".list-inline {list-style: none; margin:0; padding: 0}\n",
       ".list-inline>li {display: inline-block}\n",
       ".list-inline>li:not(:last-child)::after {content: \"\\00b7\"; padding: 0 .5ex}\n",
       "</style>\n",
       "<ol class=list-inline><li>1</li><li>2</li></ol>\n"
      ],
      "text/latex": [
       "\\begin{enumerate*}\n",
       "\\item 1\n",
       "\\item 2\n",
       "\\end{enumerate*}\n"
      ],
      "text/markdown": [
       "1. 1\n",
       "2. 2\n",
       "\n",
       "\n"
      ],
      "text/plain": [
       "[1] 1 2\n",
       "attr(,\"class\")\n",
       "[1] \"point\"   \"numeric\""
      ]
     },
     "metadata": {},
     "output_type": "display_data"
    }
   ],
   "source": [
    "point(1:2)"
   ]
  },
  {
   "cell_type": "markdown",
   "metadata": {
    "slideshow": {
     "slide_type": "subslide"
    }
   },
   "source": [
    "### Méthodes\n",
    "\n",
    "* Reconaissables par leur nom: `méthode.classe(...)`\n",
    "* $ \\Rightarrow $ facile de définir de nouvelles méthodes!\n",
    "    + Suffisant de définir une fonction nommée de manière appropriée\n",
    "* Possible d'implémenter des méthodes pour une classe que l'on a pas définie\n",
    "    + `Monkey patching`\n",
    "    + À utiliser avec parcimonie!"
   ]
  },
  {
   "cell_type": "markdown",
   "metadata": {
    "slideshow": {
     "slide_type": "subslide"
    }
   },
   "source": [
    "### Méthodes\n",
    "\n",
    "* Lorsque le nom d'une variable est saisi, **R** appelle `print`sur cette variable\n",
    "* Nous allons:\n",
    "    1. Définir une méthode `print`pour notre type `point`\n",
    "    2. Définir une méthode `summary` comme une version détaillée de `print`\n",
    "* `Important`: Arguments méthode $ = $ arguments générique!"
   ]
  },
  {
   "cell_type": "code",
   "execution_count": 9,
   "metadata": {
    "slideshow": {
     "slide_type": "fragment"
    }
   },
   "outputs": [
    {
     "data": {
      "text/plain": [
       "$x\n",
       "\n",
       "\n",
       "$...\n",
       "\n"
      ]
     },
     "metadata": {},
     "output_type": "display_data"
    }
   ],
   "source": [
    "formals(print)"
   ]
  },
  {
   "cell_type": "code",
   "execution_count": 10,
   "metadata": {
    "slideshow": {
     "slide_type": "subslide"
    }
   },
   "outputs": [],
   "source": [
    "print.point <- function(x, ...)\n",
    "    cat(\"x = \", x[1], \"& y = \", x[2], \"\\n\")"
   ]
  },
  {
   "cell_type": "code",
   "execution_count": 11,
   "metadata": {
    "slideshow": {
     "slide_type": "fragment"
    }
   },
   "outputs": [],
   "source": [
    "summary.point <- function(object, ...){\n",
    "    cat(\"Point de coordonnées \")\n",
    "    print(object)\n",
    "}"
   ]
  },
  {
   "cell_type": "code",
   "execution_count": 12,
   "metadata": {
    "slideshow": {
     "slide_type": "fragment"
    }
   },
   "outputs": [
    {
     "data": {
      "text/html": [
       "<style>\n",
       ".list-inline {list-style: none; margin:0; padding: 0}\n",
       ".list-inline>li {display: inline-block}\n",
       ".list-inline>li:not(:last-child)::after {content: \"\\00b7\"; padding: 0 .5ex}\n",
       "</style>\n",
       "<ol class=list-inline><li>1</li><li>2</li></ol>\n"
      ],
      "text/latex": [
       "\\begin{enumerate*}\n",
       "\\item 1\n",
       "\\item 2\n",
       "\\end{enumerate*}\n"
      ],
      "text/markdown": [
       "1. 1\n",
       "2. 2\n",
       "\n",
       "\n"
      ],
      "text/plain": [
       "x =  1 & y =  2 "
      ]
     },
     "metadata": {},
     "output_type": "display_data"
    }
   ],
   "source": [
    "p1"
   ]
  },
  {
   "cell_type": "code",
   "execution_count": 13,
   "metadata": {
    "slideshow": {
     "slide_type": "fragment"
    }
   },
   "outputs": [
    {
     "name": "stdout",
     "output_type": "stream",
     "text": [
      "Point de coordonnées x =  1 & y =  2 \n"
     ]
    }
   ],
   "source": [
    "summary(p1)"
   ]
  },
  {
   "cell_type": "code",
   "execution_count": 14,
   "metadata": {
    "slideshow": {
     "slide_type": "subslide"
    }
   },
   "outputs": [
    {
     "data": {
      "text/plain": [
       "     speed           dist       \n",
       " Min.   : 4.0   Min.   :  2.00  \n",
       " 1st Qu.:12.0   1st Qu.: 26.00  \n",
       " Median :15.0   Median : 36.00  \n",
       " Mean   :15.4   Mean   : 42.98  \n",
       " 3rd Qu.:19.0   3rd Qu.: 56.00  \n",
       " Max.   :25.0   Max.   :120.00  "
      ]
     },
     "metadata": {},
     "output_type": "display_data"
    }
   ],
   "source": [
    "summary(cars)"
   ]
  },
  {
   "cell_type": "code",
   "execution_count": 15,
   "metadata": {
    "slideshow": {
     "slide_type": "fragment"
    }
   },
   "outputs": [
    {
     "data": {
      "text/plain": [
       "\n",
       "Call:\n",
       "lm(formula = dist ~ speed, data = cars)\n",
       "\n",
       "Residuals:\n",
       "    Min      1Q  Median      3Q     Max \n",
       "-29.069  -9.525  -2.272   9.215  43.201 \n",
       "\n",
       "Coefficients:\n",
       "            Estimate Std. Error t value Pr(>|t|)    \n",
       "(Intercept) -17.5791     6.7584  -2.601   0.0123 *  \n",
       "speed         3.9324     0.4155   9.464 1.49e-12 ***\n",
       "---\n",
       "Signif. codes:  0 ‘***’ 0.001 ‘**’ 0.01 ‘*’ 0.05 ‘.’ 0.1 ‘ ’ 1\n",
       "\n",
       "Residual standard error: 15.38 on 48 degrees of freedom\n",
       "Multiple R-squared:  0.6511,\tAdjusted R-squared:  0.6438 \n",
       "F-statistic: 89.57 on 1 and 48 DF,  p-value: 1.49e-12\n"
      ]
     },
     "metadata": {},
     "output_type": "display_data"
    }
   ],
   "source": [
    "summary(lm(dist ~ speed, cars))"
   ]
  },
  {
   "cell_type": "markdown",
   "metadata": {
    "slideshow": {
     "slide_type": "subslide"
    }
   },
   "source": [
    "### Method dispatch\n",
    "\n",
    "* Les deux expressions sont des appels à la même fonction: `summary`\n",
    "* Différence: *argument* fourni à summary\n",
    "    + En fait, *classe* de l'argument\n",
    "* Exemple de *polymorphisme*\n",
    "    + Interface commune: `summary`\n",
    "    + Comportement différent en fonction de la classe de l'argument"
   ]
  },
  {
   "cell_type": "markdown",
   "metadata": {
    "slideshow": {
     "slide_type": "subslide"
    }
   },
   "source": [
    "### Method dispatch\n",
    "\n",
    "* Fonctionnement de la fonction `summary` est très complexe\n",
    "* Son code doit être remarquablement compliqué"
   ]
  },
  {
   "cell_type": "code",
   "execution_count": 16,
   "metadata": {
    "slideshow": {
     "slide_type": "fragment"
    }
   },
   "outputs": [
    {
     "data": {
      "text/plain": [
       "UseMethod(\"summary\")"
      ]
     },
     "metadata": {},
     "output_type": "display_data"
    }
   ],
   "source": [
    "body(summary)"
   ]
  },
  {
   "cell_type": "markdown",
   "metadata": {
    "slideshow": {
     "slide_type": "fragment"
    }
   },
   "source": [
    "<font size = 50>???</font>"
   ]
  },
  {
   "cell_type": "markdown",
   "metadata": {
    "slideshow": {
     "slide_type": "subslide"
    }
   },
   "source": [
    "### Method dispatch\n",
    "* `summary` ne calcule aucune statistique sommaire et n'affiche rien directement 😱\n",
    "* Rôle: déterminer la *méthode* appropriée à appeller $ \\Rightarrow $ *method dispatch* \n",
    "* Fonction qui dispatch: *fonction générique*\n",
    "* En R: se reconnaissent facilement par leur appel à `UseMethod`\n",
    "* `UseMethod`trouve la méthode la plus *spécialisée* pouvant s'appliquer"
   ]
  },
  {
   "cell_type": "code",
   "execution_count": 24,
   "metadata": {
    "slideshow": {
     "slide_type": "subslide"
    }
   },
   "outputs": [
    {
     "ename": "ERROR",
     "evalue": "Error in eval(expr, envir, enclos): object 'summary.vec' not found\n",
     "output_type": "error",
     "traceback": [
      "Error in eval(expr, envir, enclos): object 'summary.vec' not found\nTraceback:\n"
     ]
    }
   ],
   "source": [
    "v1 <- structure(c(1, 2), class = c(\"vec\", \"numeric\"))\n",
    "\n",
    "summary.vec"
   ]
  },
  {
   "cell_type": "code",
   "execution_count": 19,
   "metadata": {
    "slideshow": {
     "slide_type": "fragment"
    }
   },
   "outputs": [
    {
     "ename": "ERROR",
     "evalue": "Error in eval(expr, envir, enclos): object 'summary.numeric' not found\n",
     "output_type": "error",
     "traceback": [
      "Error in eval(expr, envir, enclos): object 'summary.numeric' not found\nTraceback:\n"
     ]
    }
   ],
   "source": [
    "summary.numeric"
   ]
  },
  {
   "cell_type": "code",
   "execution_count": 21,
   "metadata": {
    "slideshow": {
     "slide_type": "subslide"
    }
   },
   "outputs": [
    {
     "data": {
      "text/plain": [
       " [1] summary.aov                    summary.aovlist*              \n",
       " [3] summary.aspell*                summary.check_packages_in_dir*\n",
       " [5] summary.connection             summary.data.frame            \n",
       " [7] summary.Date                   summary.default               \n",
       " [9] summary.ecdf*                  summary.factor                \n",
       "[11] summary.ggplot*                summary.glm                   \n",
       "[13] summary.hcl_palettes*          summary.infl*                 \n",
       "[15] summary.lm                     summary.loess*                \n",
       "[17] summary.manova                 summary.matrix                \n",
       "[19] summary.mlm*                   summary.nls*                  \n",
       "[21] summary.packageStatus*         summary.point                 \n",
       "[23] summary.POSIXct                summary.POSIXlt               \n",
       "[25] summary.ppr*                   summary.prcomp*               \n",
       "[27] summary.princomp*              summary.proc_time             \n",
       "[29] summary.rlang_error*           summary.rlang_trace*          \n",
       "[31] summary.srcfile                summary.srcref                \n",
       "[33] summary.stepfun                summary.stl*                  \n",
       "[35] summary.table                  summary.tukeysmooth*          \n",
       "[37] summary.vctrs_sclr*            summary.vctrs_vctr*           \n",
       "[39] summary.warnings              \n",
       "see '?methods' for accessing help and source code"
      ]
     },
     "metadata": {},
     "output_type": "display_data"
    }
   ],
   "source": [
    "methods(summary)"
   ]
  },
  {
   "cell_type": "markdown",
   "metadata": {
    "slideshow": {
     "slide_type": "subslide"
    }
   },
   "source": [
    "* Exemple: initialement, `summary` cherchait une méthode pour la classe la plus spécifique de `v1`, `vec`\n",
    "    + N'existe pas $ \\Rightarrow $ recommence la recherche pour la classe `numeric`\n",
    "* Arrivé à ce point, **R** a épuisé toutes les classes\n",
    "* Pourtant, `summary` fonctionne quand même 🤨"
   ]
  },
  {
   "cell_type": "code",
   "execution_count": 25,
   "metadata": {
    "slideshow": {
     "slide_type": "fragment"
    }
   },
   "outputs": [
    {
     "data": {
      "text/plain": [
       "   Min. 1st Qu.  Median    Mean 3rd Qu.    Max. \n",
       "   1.00    1.25    1.50    1.50    1.75    2.00 "
      ]
     },
     "metadata": {},
     "output_type": "display_data"
    }
   ],
   "source": [
    "summary(v1)"
   ]
  },
  {
   "cell_type": "markdown",
   "metadata": {
    "slideshow": {
     "slide_type": "subslide"
    }
   },
   "source": [
    "* Dernier atout: `summary.default`\n",
    "* En général, avant d'abandonner, **R** cherche une méthode par défaut\n",
    "    + Utile pour définir un comportement par défaut"
   ]
  },
  {
   "cell_type": "code",
   "execution_count": 26,
   "metadata": {
    "slideshow": {
     "slide_type": "fragment"
    }
   },
   "outputs": [
    {
     "data": {
      "text/plain": [
       "   Min. 1st Qu.  Median    Mean 3rd Qu.    Max. \n",
       "   1.00    1.25    1.50    1.50    1.75    2.00 "
      ]
     },
     "metadata": {},
     "output_type": "display_data"
    }
   ],
   "source": [
    "summary.default(v1)"
   ]
  },
  {
   "cell_type": "markdown",
   "metadata": {
    "slideshow": {
     "slide_type": "subslide"
    }
   },
   "source": [
    "### Fonction générique\n",
    "\n",
    "* Méthode *sans* fonction générique: ☹️\n",
    "* $ \\Rightarrow $ Nécessité de définir nos propres génériques (parfois)\n",
    "* La plupart du temps, se limite à un appel à `UseMethod` qui prend 2 arguments:\n",
    "    + *generic*: nom de la méthode à appeler\n",
    "    + *object*: objet dont le type est utilisé pour le dispatch.\n",
    "        * Par défaut, premier argument passé à la fonction générique 🪄"
   ]
  },
  {
   "cell_type": "markdown",
   "metadata": {
    "slideshow": {
     "slide_type": "subslide"
    }
   },
   "source": [
    "### Fonction générique\n",
    "\n",
    "Définissons une méthode permettant de déterminer si des points sont alignés"
   ]
  },
  {
   "cell_type": "code",
   "execution_count": 31,
   "metadata": {
    "slideshow": {
     "slide_type": "fragment"
    }
   },
   "outputs": [],
   "source": [
    "isaligned.point <- function(...) {\n",
    "    points <- list(...)\n",
    "    \n",
    "    isTRUE(length(points) <= 2) && return(TRUE)\n",
    "    \n",
    "    fit <- crossprod(\n",
    "        solve(cbind(1, c(points[[1]][1], points[[2]][1]))),\n",
    "        c(points[[1]][2], points[[2]][2]))\n",
    "    \n",
    "    for (p in points[-(1:2)]) {\n",
    "        pred <- crossprod(c(1, p[1]), fit)[1]\n",
    "        \n",
    "        isTRUE(all.equal(pred, p[2])) || return(FALSE)\n",
    "    }\n",
    "    \n",
    "    TRUE\n",
    "}"
   ]
  },
  {
   "cell_type": "code",
   "execution_count": 32,
   "metadata": {
    "slideshow": {
     "slide_type": "subslide"
    }
   },
   "outputs": [
    {
     "data": {
      "text/html": [
       "TRUE"
      ],
      "text/latex": [
       "TRUE"
      ],
      "text/markdown": [
       "TRUE"
      ],
      "text/plain": [
       "[1] TRUE"
      ]
     },
     "metadata": {},
     "output_type": "display_data"
    }
   ],
   "source": [
    "isaligned.point(point(1:2), point(3:4), point(5:6))"
   ]
  },
  {
   "cell_type": "code",
   "execution_count": 33,
   "metadata": {
    "slideshow": {
     "slide_type": "fragment"
    }
   },
   "outputs": [
    {
     "data": {
      "text/html": [
       "FALSE"
      ],
      "text/latex": [
       "FALSE"
      ],
      "text/markdown": [
       "FALSE"
      ],
      "text/plain": [
       "[1] FALSE"
      ]
     },
     "metadata": {},
     "output_type": "display_data"
    }
   ],
   "source": [
    "isaligned.point(point(1:2), point(3:4), point(c(5, 7)))"
   ]
  },
  {
   "cell_type": "markdown",
   "metadata": {
    "slideshow": {
     "slide_type": "subslide"
    }
   },
   "source": [
    "### Fonction générique\n",
    "\n",
    "Définissons une générique"
   ]
  },
  {
   "cell_type": "code",
   "execution_count": 34,
   "metadata": {
    "slideshow": {
     "slide_type": "fragment"
    }
   },
   "outputs": [],
   "source": [
    "isaligned <- function(...) UseMethod(\"isaligned\")"
   ]
  },
  {
   "cell_type": "code",
   "execution_count": 35,
   "metadata": {
    "slideshow": {
     "slide_type": "fragment"
    }
   },
   "outputs": [
    {
     "data": {
      "text/html": [
       "TRUE"
      ],
      "text/latex": [
       "TRUE"
      ],
      "text/markdown": [
       "TRUE"
      ],
      "text/plain": [
       "[1] TRUE"
      ]
     },
     "metadata": {},
     "output_type": "display_data"
    }
   ],
   "source": [
    "isaligned(point(1:2), point(5:6), point(9:10))"
   ]
  },
  {
   "cell_type": "code",
   "execution_count": 36,
   "metadata": {
    "slideshow": {
     "slide_type": "fragment"
    }
   },
   "outputs": [
    {
     "data": {
      "text/html": [
       "FALSE"
      ],
      "text/latex": [
       "FALSE"
      ],
      "text/markdown": [
       "FALSE"
      ],
      "text/plain": [
       "[1] FALSE"
      ]
     },
     "metadata": {},
     "output_type": "display_data"
    }
   ],
   "source": [
    "isaligned(point(1:2), point(5:6), point(c(9, 11)))"
   ]
  },
  {
   "cell_type": "markdown",
   "metadata": {
    "slideshow": {
     "slide_type": "subslide"
    }
   },
   "source": [
    "### Exemple\n",
    "\n",
    "* Classe `point`: simple spécialisation de la classe `numeric`\n",
    "* Peut facilement se complexifier!\n",
    "* Exemple: offrir la possibilité à l'utilisateur de marquer son point à l'aide d'une chaîne de caractère"
   ]
  },
  {
   "cell_type": "code",
   "execution_count": 67,
   "metadata": {
    "slideshow": {
     "slide_type": "subslide"
    }
   },
   "outputs": [],
   "source": [
    "pointM <- function(v, mark = NULL) {\n",
    "    stopifnot(is.null(mark) ||\n",
    "              (is.character(mark) && identical(length(mark), 1L)))\n",
    "    \n",
    "    p <- point(v)\n",
    "    attr(p, \"mark\") <- mark\n",
    "    \n",
    "    structure(p, class = c(\"pointM\", class(p)))\n",
    "}"
   ]
  },
  {
   "cell_type": "markdown",
   "metadata": {
    "slideshow": {
     "slide_type": "subslide"
    }
   },
   "source": [
    "### Exemple\n",
    "\n",
    "* On crée notre nouvelle classe en ajoutant un attribut à un `point`\n",
    "    + fonction `attr<-`\n",
    "* Possibilité d'ajouter un nombre arbitraire d'attributs à un objet\n",
    "    + Certains (ex. `class`, `dim`) jouent un rôle spécial\n",
    "    + Voir documentation de `attr`\n",
    "* Autre possibilité: utiliser une liste\n",
    "    + Première entrée: `point`\n",
    "    + Seconde entrée: marque\n",
    "* Notre approche comporte certains avantages"
   ]
  },
  {
   "cell_type": "code",
   "execution_count": 41,
   "metadata": {
    "slideshow": {
     "slide_type": "subslide"
    }
   },
   "outputs": [],
   "source": [
    "p1 <- pointM(1:2, \"Premier point\")\n",
    "p2 <- pointM(3:4, \"Second point\")\n",
    "p3 <- pointM(5:6, \"Troisième point\")"
   ]
  },
  {
   "cell_type": "markdown",
   "metadata": {
    "slideshow": {
     "slide_type": "fragment"
    }
   },
   "source": [
    "Comme nos `pointM` héritent de `point`, on dispose déjà de quelques méthodes!"
   ]
  },
  {
   "cell_type": "code",
   "execution_count": 42,
   "metadata": {
    "slideshow": {
     "slide_type": "fragment"
    }
   },
   "outputs": [
    {
     "data": {
      "text/html": [
       "<style>\n",
       ".list-inline {list-style: none; margin:0; padding: 0}\n",
       ".list-inline>li {display: inline-block}\n",
       ".list-inline>li:not(:last-child)::after {content: \"\\00b7\"; padding: 0 .5ex}\n",
       "</style>\n",
       "<ol class=list-inline><li>1</li><li>2</li></ol>\n"
      ],
      "text/latex": [
       "\\begin{enumerate*}\n",
       "\\item 1\n",
       "\\item 2\n",
       "\\end{enumerate*}\n"
      ],
      "text/markdown": [
       "1. 1\n",
       "2. 2\n",
       "\n",
       "\n"
      ],
      "text/plain": [
       "x =  1 & y =  2 "
      ]
     },
     "metadata": {},
     "output_type": "display_data"
    }
   ],
   "source": [
    "p1"
   ]
  },
  {
   "cell_type": "code",
   "execution_count": 43,
   "metadata": {
    "slideshow": {
     "slide_type": "fragment"
    }
   },
   "outputs": [
    {
     "name": "stdout",
     "output_type": "stream",
     "text": [
      "Point de coordonnées x =  3 & y =  4 \n"
     ]
    }
   ],
   "source": [
    "summary(p2)"
   ]
  },
  {
   "cell_type": "code",
   "execution_count": 44,
   "metadata": {
    "slideshow": {
     "slide_type": "fragment"
    }
   },
   "outputs": [
    {
     "data": {
      "text/html": [
       "TRUE"
      ],
      "text/latex": [
       "TRUE"
      ],
      "text/markdown": [
       "TRUE"
      ],
      "text/plain": [
       "[1] TRUE"
      ]
     },
     "metadata": {},
     "output_type": "display_data"
    }
   ],
   "source": [
    "isaligned(p1, p2, p3)"
   ]
  },
  {
   "cell_type": "markdown",
   "metadata": {
    "slideshow": {
     "slide_type": "subslide"
    }
   },
   "source": [
    "### Exemple\n",
    "\n",
    "* Conceptuellement correct: tout ce qui peut être fait avec un point devrait pouvoir se faire avec un point marqué\n",
    "* Fournissons à l'utilisateur un moyen de voir la marque d'un point"
   ]
  },
  {
   "cell_type": "code",
   "execution_count": 68,
   "metadata": {
    "slideshow": {
     "slide_type": "fragment"
    }
   },
   "outputs": [],
   "source": [
    "mark.pointM <- function(point) {\n",
    "    print(attr(point, \"mark\"))\n",
    "}\n",
    "\n",
    "mark <- function(point) UseMethod(\"mark\")"
   ]
  },
  {
   "cell_type": "code",
   "execution_count": 48,
   "metadata": {
    "slideshow": {
     "slide_type": "fragment"
    }
   },
   "outputs": [
    {
     "name": "stdout",
     "output_type": "stream",
     "text": [
      "[1] \"Premier point\"\n"
     ]
    }
   ],
   "source": [
    "mark(p1)"
   ]
  },
  {
   "cell_type": "markdown",
   "metadata": {
    "slideshow": {
     "slide_type": "subslide"
    }
   },
   "source": [
    "### Exemple\n",
    "\n",
    "Malheureusement, pas possible de modiifer la marque de la manière \"habituelle\""
   ]
  },
  {
   "cell_type": "code",
   "execution_count": 49,
   "metadata": {
    "slideshow": {
     "slide_type": "fragment"
    }
   },
   "outputs": [
    {
     "ename": "ERROR",
     "evalue": "Error in mark(p1) <- \"1er point\": could not find function \"mark<-\"\n",
     "output_type": "error",
     "traceback": [
      "Error in mark(p1) <- \"1er point\": could not find function \"mark<-\"\nTraceback:\n"
     ]
    }
   ],
   "source": [
    "mark(p1) <- \"1er point\""
   ]
  },
  {
   "cell_type": "markdown",
   "metadata": {
    "slideshow": {
     "slide_type": "subslide"
    }
   },
   "source": [
    "### Exemple\n",
    "\n",
    "Solution:"
   ]
  },
  {
   "cell_type": "code",
   "execution_count": 50,
   "metadata": {
    "slideshow": {
     "slide_type": "fragment"
    }
   },
   "outputs": [],
   "source": [
    "`mark<-.pointM` <- function(point, value) {\n",
    "    attr(point, \"mark\") <- value\n",
    "    \n",
    "    point\n",
    "}\n",
    "\n",
    "`mark<-` <- function(point, value) UseMethod(\"mark<-\")"
   ]
  },
  {
   "cell_type": "code",
   "execution_count": 51,
   "metadata": {
    "slideshow": {
     "slide_type": "subslide"
    }
   },
   "outputs": [
    {
     "name": "stdout",
     "output_type": "stream",
     "text": [
      "[1] \"Premier point\"\n"
     ]
    }
   ],
   "source": [
    "mark(p1)"
   ]
  },
  {
   "cell_type": "code",
   "execution_count": 52,
   "metadata": {
    "slideshow": {
     "slide_type": "fragment"
    }
   },
   "outputs": [],
   "source": [
    "mark(p1) <- \"1er point\""
   ]
  },
  {
   "cell_type": "code",
   "execution_count": 53,
   "metadata": {
    "slideshow": {
     "slide_type": "fragment"
    }
   },
   "outputs": [
    {
     "name": "stdout",
     "output_type": "stream",
     "text": [
      "[1] \"1er point\"\n"
     ]
    }
   ],
   "source": [
    "mark(p1)"
   ]
  },
  {
   "cell_type": "markdown",
   "metadata": {
    "slideshow": {
     "slide_type": "subslide"
    }
   },
   "source": [
    "### Exemple\n",
    "\n",
    "Finalement, spécialisons `print`"
   ]
  },
  {
   "cell_type": "code",
   "execution_count": 60,
   "metadata": {
    "slideshow": {
     "slide_type": "fragment"
    }
   },
   "outputs": [],
   "source": [
    "print.pointM <- function(x, ...) {\n",
    "    print.point(x)\n",
    "    cat(mark(x), \"\\n\")\n",
    "}"
   ]
  },
  {
   "cell_type": "code",
   "execution_count": 63,
   "metadata": {
    "slideshow": {
     "slide_type": "fragment"
    }
   },
   "outputs": [
    {
     "name": "stdout",
     "output_type": "stream",
     "text": [
      "x =  1 & y =  2 \n",
      "[1] \"1er point\"\n",
      "1er point \n"
     ]
    }
   ],
   "source": [
    "print(p1)"
   ]
  },
  {
   "cell_type": "code",
   "execution_count": 64,
   "metadata": {
    "slideshow": {
     "slide_type": "fragment"
    }
   },
   "outputs": [
    {
     "name": "stdout",
     "output_type": "stream",
     "text": [
      "Point de coordonnées x =  3 & y =  4 \n",
      "[1] \"Second point\"\n",
      "Second point \n"
     ]
    }
   ],
   "source": [
    "summary(p2)"
   ]
  },
  {
   "cell_type": "markdown",
   "metadata": {
    "slideshow": {
     "slide_type": "subslide"
    }
   },
   "source": [
    "### Performance\n",
    "\n",
    "* Système par fonction générique $ \\Rightarrow $ *grande* flexibilité\n",
    "* Coût: fonction générique $ \\Rightarrow $ plus d'appels de fonctions\n",
    "* En général, pas un problème\n",
    "    + Dans du code critique (boucle...), considérer appeler directement la méthode"
   ]
  }
 ],
 "metadata": {
  "celltoolbar": "Slideshow",
  "kernelspec": {
   "display_name": "R",
   "language": "R",
   "name": "ir"
  },
  "language_info": {
   "codemirror_mode": "r",
   "file_extension": ".r",
   "mimetype": "text/x-r-source",
   "name": "R",
   "pygments_lexer": "r",
   "version": "4.1.1"
  },
  "livereveal": {
   "autolaunch": true
  },
  "rise": {
   "autolaunch": true,
   "controls": true,
   "controlsTutorial": true,
   "hash": true,
   "help": false,
   "hideinactivecursor": true,
   "mouseWheel": false,
   "overview": false,
   "pause": true,
   "scroll": true,
   "slideNumber": true,
   "theme": "black",
   "transition": "slide"
  }
 },
 "nbformat": 4,
 "nbformat_minor": 4
}
