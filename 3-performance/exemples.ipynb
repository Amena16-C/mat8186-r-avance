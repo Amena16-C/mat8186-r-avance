{
 "cells": [
  {
   "cell_type": "markdown",
   "metadata": {},
   "source": [
    "# Variables"
   ]
  },
  {
   "cell_type": "markdown",
   "metadata": {},
   "source": [
    "## Copy on write"
   ]
  },
  {
   "cell_type": "code",
   "execution_count": 1,
   "metadata": {},
   "outputs": [
    {
     "name": "stderr",
     "output_type": "stream",
     "text": [
      "Registered S3 method overwritten by 'pryr':\n",
      "  method      from\n",
      "  print.bytes Rcpp\n",
      "\n"
     ]
    }
   ],
   "source": [
    "library(pryr)"
   ]
  },
  {
   "cell_type": "code",
   "execution_count": 2,
   "metadata": {},
   "outputs": [
    {
     "data": {
      "text/html": [
       "'0x5598bc45e520'"
      ],
      "text/latex": [
       "'0x5598bc45e520'"
      ],
      "text/markdown": [
       "'0x5598bc45e520'"
      ],
      "text/plain": [
       "[1] \"0x5598bc45e520\""
      ]
     },
     "metadata": {},
     "output_type": "display_data"
    }
   ],
   "source": [
    "x <- 158\n",
    "address(x)"
   ]
  },
  {
   "cell_type": "code",
   "execution_count": 3,
   "metadata": {},
   "outputs": [
    {
     "data": {
      "text/html": [
       "'0x5598bc45e520'"
      ],
      "text/latex": [
       "'0x5598bc45e520'"
      ],
      "text/markdown": [
       "'0x5598bc45e520'"
      ],
      "text/plain": [
       "[1] \"0x5598bc45e520\""
      ]
     },
     "metadata": {},
     "output_type": "display_data"
    }
   ],
   "source": [
    "y <- x\n",
    "address(y)"
   ]
  },
  {
   "cell_type": "code",
   "execution_count": 4,
   "metadata": {},
   "outputs": [
    {
     "data": {
      "text/html": [
       "TRUE"
      ],
      "text/latex": [
       "TRUE"
      ],
      "text/markdown": [
       "TRUE"
      ],
      "text/plain": [
       "[1] TRUE"
      ]
     },
     "metadata": {},
     "output_type": "display_data"
    }
   ],
   "source": [
    "identical(address(x), address(y))"
   ]
  },
  {
   "cell_type": "code",
   "execution_count": 5,
   "metadata": {},
   "outputs": [
    {
     "data": {
      "text/html": [
       "'0x5598baec7518'"
      ],
      "text/latex": [
       "'0x5598baec7518'"
      ],
      "text/markdown": [
       "'0x5598baec7518'"
      ],
      "text/plain": [
       "[1] \"0x5598baec7518\""
      ]
     },
     "metadata": {},
     "output_type": "display_data"
    },
    {
     "data": {
      "text/html": [
       "'0x5598bc45e520'"
      ],
      "text/latex": [
       "'0x5598bc45e520'"
      ],
      "text/markdown": [
       "'0x5598bc45e520'"
      ],
      "text/plain": [
       "[1] \"0x5598bc45e520\""
      ]
     },
     "metadata": {},
     "output_type": "display_data"
    }
   ],
   "source": [
    "x <- 86\n",
    "address(x)\n",
    "address(y)"
   ]
  },
  {
   "cell_type": "code",
   "execution_count": 6,
   "metadata": {},
   "outputs": [
    {
     "data": {
      "text/html": [
       "FALSE"
      ],
      "text/latex": [
       "FALSE"
      ],
      "text/markdown": [
       "FALSE"
      ],
      "text/plain": [
       "[1] FALSE"
      ]
     },
     "metadata": {},
     "output_type": "display_data"
    }
   ],
   "source": [
    "identical(address(x), address(y))"
   ]
  },
  {
   "cell_type": "markdown",
   "metadata": {},
   "source": [
    "## Préallocation"
   ]
  },
  {
   "cell_type": "code",
   "execution_count": 7,
   "metadata": {},
   "outputs": [],
   "source": [
    "lcg <- function(a, b, m,\n",
    "                seed = 0)\n",
    "  function(){\n",
    "    ret <- (a * seed + b) %% m\n",
    "    seed <<- ret\n",
    "    ret / m\n",
    "  }"
   ]
  },
  {
   "cell_type": "code",
   "execution_count": 8,
   "metadata": {},
   "outputs": [],
   "source": [
    "## LCG de numerical recipes.\n",
    "nr_lcg <- lcg(1664525, 1013904223, 2^32)\n",
    "\n",
    "rand_prealloc <- function(n){\n",
    "    res <- numeric(n)\n",
    "    for (kk in 1:n)\n",
    "        res[kk] <- nr_lcg()\n",
    "\n",
    "    res\n",
    "}\n",
    "\n",
    "rand_vec <- function(n){\n",
    "    replicate(n, nr_lcg())\n",
    "}"
   ]
  },
  {
   "cell_type": "code",
   "execution_count": 9,
   "metadata": {},
   "outputs": [
    {
     "name": "stdout",
     "output_type": "stream",
     "text": [
      "Unit: milliseconds\n",
      "                 expr       min        lq     mean   median       uq      max\n",
      "      rand_vec(10000) 14.475049 15.914283 19.36851 18.25837 20.57277 39.75269\n",
      " rand_prealloc(10000)  9.132864  9.768021 11.89094 11.32383 12.93549 36.17871\n",
      " neval\n",
      "   100\n",
      "   100\n"
     ]
    }
   ],
   "source": [
    "library(microbenchmark)\n",
    "print(microbenchmark(rand_vec(1e4), rand_prealloc(1e4)))"
   ]
  },
  {
   "cell_type": "markdown",
   "metadata": {},
   "source": [
    "# Fonctions"
   ]
  },
  {
   "cell_type": "markdown",
   "metadata": {},
   "source": [
    "## De niveau supérieur"
   ]
  },
  {
   "cell_type": "code",
   "execution_count": 10,
   "metadata": {},
   "outputs": [
    {
     "data": {
      "text/html": [
       "<style>\n",
       ".list-inline {list-style: none; margin:0; padding: 0}\n",
       ".list-inline>li {display: inline-block}\n",
       ".list-inline>li:not(:last-child)::after {content: \"\\00b7\"; padding: 0 .5ex}\n",
       "</style>\n",
       "<ol class=list-inline><li>2</li><li>4</li><li>6</li><li>8</li><li>10</li></ol>\n"
      ],
      "text/latex": [
       "\\begin{enumerate*}\n",
       "\\item 2\n",
       "\\item 4\n",
       "\\item 6\n",
       "\\item 8\n",
       "\\item 10\n",
       "\\end{enumerate*}\n"
      ],
      "text/markdown": [
       "1. 2\n",
       "2. 4\n",
       "3. 6\n",
       "4. 8\n",
       "5. 10\n",
       "\n",
       "\n"
      ],
      "text/plain": [
       "[1]  2  4  6  8 10"
      ]
     },
     "metadata": {},
     "output_type": "display_data"
    }
   ],
   "source": [
    "Filter(function(x) identical(x %% 2, 0), 1:10)"
   ]
  },
  {
   "cell_type": "markdown",
   "metadata": {},
   "source": [
    "## Composition"
   ]
  },
  {
   "cell_type": "code",
   "execution_count": 11,
   "metadata": {},
   "outputs": [
    {
     "data": {
      "text/plain": [
       "$a\n",
       "\n",
       "\n",
       "$b\n",
       "\n",
       "\n",
       "$m\n",
       "\n",
       "\n",
       "$seed\n",
       "[1] 0\n"
      ]
     },
     "metadata": {},
     "output_type": "display_data"
    }
   ],
   "source": [
    "formals(lcg)"
   ]
  },
  {
   "cell_type": "code",
   "execution_count": 12,
   "metadata": {},
   "outputs": [
    {
     "data": {
      "text/plain": [
       "function() {\n",
       "    ret <- (a * seed + b)%%m\n",
       "    seed <<- ret\n",
       "    ret/m\n",
       "}"
      ]
     },
     "metadata": {},
     "output_type": "display_data"
    }
   ],
   "source": [
    "body(lcg)"
   ]
  },
  {
   "cell_type": "code",
   "execution_count": 13,
   "metadata": {},
   "outputs": [
    {
     "data": {
      "text/plain": [
       "<environment: R_GlobalEnv>"
      ]
     },
     "metadata": {},
     "output_type": "display_data"
    }
   ],
   "source": [
    "environment(lcg)"
   ]
  },
  {
   "cell_type": "markdown",
   "metadata": {},
   "source": [
    "## Portée lexicale"
   ]
  },
  {
   "cell_type": "code",
   "execution_count": 14,
   "metadata": {},
   "outputs": [
    {
     "name": "stdout",
     "output_type": "stream",
     "text": [
      "[1] 42\n",
      "[1] 666\n"
     ]
    }
   ],
   "source": [
    "x <- 42\n",
    "f <- function(){\n",
    "    print(x)\n",
    "    x <- 666\n",
    "    print(x)\n",
    "}\n",
    "f()"
   ]
  },
  {
   "cell_type": "code",
   "execution_count": 15,
   "metadata": {},
   "outputs": [
    {
     "name": "stdout",
     "output_type": "stream",
     "text": [
      "[1] 42\n"
     ]
    }
   ],
   "source": [
    "print(x)"
   ]
  },
  {
   "cell_type": "markdown",
   "metadata": {},
   "source": [
    "## Variable globale vs. closure"
   ]
  },
  {
   "cell_type": "code",
   "execution_count": 16,
   "metadata": {},
   "outputs": [],
   "source": [
    "seed <- 42\n",
    "lcg_bad <- function(a, b, m)\n",
    "  function(){\n",
    "    ret <- (a * seed + b) %% m\n",
    "    seed <<- ret\n",
    "    ret / m\n",
    "  }"
   ]
  },
  {
   "cell_type": "code",
   "execution_count": 17,
   "metadata": {},
   "outputs": [],
   "source": [
    "nr_lcg <- lcg(1664525, 1013904223, 2^32)"
   ]
  },
  {
   "cell_type": "code",
   "execution_count": 18,
   "metadata": {},
   "outputs": [
    {
     "data": {
      "text/html": [
       "TRUE"
      ],
      "text/latex": [
       "TRUE"
      ],
      "text/markdown": [
       "TRUE"
      ],
      "text/plain": [
       "[1] TRUE"
      ]
     },
     "metadata": {},
     "output_type": "display_data"
    }
   ],
   "source": [
    "identical(environment(lcg), globalenv())"
   ]
  },
  {
   "cell_type": "code",
   "execution_count": 19,
   "metadata": {},
   "outputs": [
    {
     "data": {
      "text/html": [
       "FALSE"
      ],
      "text/latex": [
       "FALSE"
      ],
      "text/markdown": [
       "FALSE"
      ],
      "text/plain": [
       "[1] FALSE"
      ]
     },
     "metadata": {},
     "output_type": "display_data"
    }
   ],
   "source": [
    "identical(environment(nr_lcg), globalenv())"
   ]
  },
  {
   "cell_type": "markdown",
   "metadata": {},
   "source": [
    "# Comparaisons"
   ]
  },
  {
   "cell_type": "markdown",
   "metadata": {},
   "source": [
    "## Approche impérative"
   ]
  },
  {
   "cell_type": "code",
   "execution_count": 20,
   "metadata": {},
   "outputs": [],
   "source": [
    "add1 <- function(x) x + 1\n",
    "\n",
    "add2 <- function(x) x + 2\n",
    "\n",
    "for_add1_twice <- function(n){\n",
    "    res <- integer(n)\n",
    "    for (kk in 1:n)\n",
    "        res[n] <- add1(add1(rpois(1, 1)))\n",
    "\n",
    "    res\n",
    "}\n",
    "\n",
    "for_add2 <- function(n){\n",
    "    res <- integer(n)\n",
    "    for (kk in 1:n)\n",
    "        res[n] <- add2(rpois(1, 1))\n",
    "\n",
    "    res\n",
    "}\n",
    "\n",
    "for_noCall <- function(n){\n",
    "    res <- integer(n)\n",
    "    for (kk in 1:n)\n",
    "        res[n] <- rpois(1, 1) + 2\n",
    "\n",
    "    res\n",
    "}"
   ]
  },
  {
   "cell_type": "code",
   "execution_count": 21,
   "metadata": {},
   "outputs": [
    {
     "name": "stdout",
     "output_type": "stream",
     "text": [
      "Unit: milliseconds\n",
      "                  expr      min       lq     mean   median       uq      max\n",
      " for_add1_twice(10000) 22.59052 24.35937 29.85741 28.41422 33.37950 52.05460\n",
      "       for_add2(10000) 18.62884 21.99016 24.60918 23.49123 26.42475 38.86438\n",
      "     for_noCall(10000) 15.33360 16.42019 20.97512 19.53979 23.33472 77.72734\n",
      " neval\n",
      "   100\n",
      "   100\n",
      "   100\n"
     ]
    }
   ],
   "source": [
    "print(microbenchmark(for_add1_twice(1e4),\n",
    "                     for_add2(1e4),\n",
    "                     for_noCall(1e4)))"
   ]
  },
  {
   "cell_type": "markdown",
   "metadata": {},
   "source": [
    "## Approche fonctionnelle"
   ]
  },
  {
   "cell_type": "code",
   "execution_count": 22,
   "metadata": {},
   "outputs": [],
   "source": [
    "sapply_add1_twice <- function(n)\n",
    "    sapply(rpois(n, 1), function(x) add1(add1(x)))\n",
    "\n",
    "sapply_add2 <- function(n) sapply(rpois(n, 1), add2)\n",
    "\n",
    "sapply_noCall <- function(n) sapply(rpois(n, 1), `+`, y = 1)"
   ]
  },
  {
   "cell_type": "code",
   "execution_count": 23,
   "metadata": {},
   "outputs": [
    {
     "name": "stdout",
     "output_type": "stream",
     "text": [
      "Unit: milliseconds\n",
      "                     expr       min        lq      mean    median        uq\n",
      " sapply_add1_twice(10000) 12.610106 14.322282 17.523976 16.422704 18.845928\n",
      "       sapply_add2(10000)  5.923592  6.537617  8.334495  7.607203  9.740279\n",
      "     sapply_noCall(10000)  3.562126  4.054324  5.576478  4.715336  6.704204\n",
      "      max neval\n",
      " 74.82576   100\n",
      " 19.28138   100\n",
      " 16.68560   100\n"
     ]
    }
   ],
   "source": [
    "print(microbenchmark(sapply_add1_twice(1e4),\n",
    "                     sapply_add2(1e4),\n",
    "                     sapply_noCall(1e4)))"
   ]
  },
  {
   "cell_type": "markdown",
   "metadata": {},
   "source": [
    "## Approche array"
   ]
  },
  {
   "cell_type": "code",
   "execution_count": 24,
   "metadata": {},
   "outputs": [],
   "source": [
    "add2_correct <- function(n) rpois(n, 1) + 2"
   ]
  },
  {
   "cell_type": "code",
   "execution_count": 25,
   "metadata": {},
   "outputs": [
    {
     "name": "stdout",
     "output_type": "stream",
     "text": [
      "Unit: microseconds\n",
      "                     expr       min         lq      mean     median        uq\n",
      "    for_add1_twice(10000) 22492.384 24004.8500 26791.855 25280.8655 28505.266\n",
      "          for_add2(10000) 18623.574 19694.3270 23506.022 22939.7485 24516.531\n",
      "        for_noCall(10000) 15322.088 15887.9310 19400.966 18013.0120 20362.406\n",
      " sapply_add1_twice(10000) 12356.952 13161.7660 14448.113 13457.9685 15331.476\n",
      "       sapply_add2(10000)  5803.650  6109.7400  6803.235  6361.7850  6827.063\n",
      "     sapply_noCall(10000)  3562.638  3783.6515  4431.018  3955.2390  4387.776\n",
      "      add2_correct(10000)   372.209   379.0275   406.939   383.8115   388.418\n",
      "       max neval\n",
      " 37660.913   100\n",
      " 51790.916   100\n",
      " 63619.062   100\n",
      " 21242.988   100\n",
      " 14584.365   100\n",
      " 13182.177   100\n",
      "  2104.472   100\n"
     ]
    }
   ],
   "source": [
    "print(microbenchmark(for_add1_twice(1e4),\n",
    "                     for_add2(1e4),\n",
    "                     for_noCall(1e4),\n",
    "                     sapply_add1_twice(1e4),\n",
    "                     sapply_add2(1e4),\n",
    "                     sapply_noCall(1e4),\n",
    "                     add2_correct(1e4)))"
   ]
  }
 ],
 "metadata": {
  "kernelspec": {
   "display_name": "R",
   "language": "R",
   "name": "ir"
  },
  "language_info": {
   "codemirror_mode": "r",
   "file_extension": ".r",
   "mimetype": "text/x-r-source",
   "name": "R",
   "pygments_lexer": "r",
   "version": "4.0.2"
  }
 },
 "nbformat": 4,
 "nbformat_minor": 4
}
