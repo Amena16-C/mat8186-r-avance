{
 "cells": [
  {
   "cell_type": "markdown",
   "metadata": {},
   "source": [
    "# Exercice 1"
   ]
  },
  {
   "cell_type": "code",
   "execution_count": 1,
   "metadata": {},
   "outputs": [],
   "source": [
    "gamma_mult <- function(x, p) {\n",
    "    π <- pi^(p * (p - 1.0) / 4.0)\n",
    "    Γ <- gamma(x - seq_len(p) / 2.0 + 0.5)\n",
    "\n",
    "    π * prod(Γ)\n",
    "}"
   ]
  },
  {
   "cell_type": "code",
   "execution_count": 2,
   "metadata": {},
   "outputs": [
    {
     "data": {
      "text/html": [
       "3219542192.2222"
      ],
      "text/latex": [
       "3219542192.2222"
      ],
      "text/markdown": [
       "3219542192.2222"
      ],
      "text/plain": [
       "[1] 3219542192"
      ]
     },
     "metadata": {},
     "output_type": "display_data"
    }
   ],
   "source": [
    "gamma_mult(6, 5)"
   ]
  },
  {
   "cell_type": "markdown",
   "metadata": {},
   "source": [
    "# Exercice 2"
   ]
  },
  {
   "cell_type": "code",
   "execution_count": 3,
   "metadata": {},
   "outputs": [],
   "source": [
    "det_update_chol <- function(x, d, R) {\n",
    "    y <- backsolve(R, x, transpose = TRUE)\n",
    "\n",
    "    as.numeric((1 + crossprod(y)) * d)\n",
    "}"
   ]
  },
  {
   "cell_type": "code",
   "execution_count": 4,
   "metadata": {},
   "outputs": [
    {
     "data": {
      "text/html": [
       "5.41040123816215"
      ],
      "text/latex": [
       "5.41040123816215"
      ],
      "text/markdown": [
       "5.41040123816215"
      ],
      "text/plain": [
       "[1] 5.410401"
      ]
     },
     "metadata": {},
     "output_type": "display_data"
    },
    {
     "data": {
      "text/html": [
       "5.41040123816218"
      ],
      "text/latex": [
       "5.41040123816218"
      ],
      "text/markdown": [
       "5.41040123816218"
      ],
      "text/plain": [
       "[1] 5.410401"
      ]
     },
     "metadata": {},
     "output_type": "display_data"
    }
   ],
   "source": [
    "M <- crossprod(matrix(rnorm(2.0^2L), 2L))\n",
    "d <- det(M)\n",
    "R <- chol(M)\n",
    "x <- 1:2\n",
    "\n",
    "det_update_chol(x, d, R)\n",
    "det(M + tcrossprod(x))"
   ]
  },
  {
   "cell_type": "markdown",
   "metadata": {},
   "source": [
    "# Exercice 3"
   ]
  },
  {
   "cell_type": "code",
   "execution_count": 5,
   "metadata": {},
   "outputs": [],
   "source": [
    "wishart_pert <- function(n, M, m, Σ) {\n",
    "    p <- nrow(M)\n",
    "    dM <- det(M)\n",
    "    dΣ <- det(Σ)\n",
    "    Σ_inv <- solve(Σ)\n",
    "    Γ = gamma_mult(0.5 * m, p)\n",
    "    R <- chol(M)\n",
    "    \n",
    "    denum <- 2.0^(0.5 * m * p) * dΣ^(0.5 * m) * Γ\n",
    "\n",
    "    replicate(n, simplify = FALSE, {\n",
    "        x <- rnorm(p)\n",
    "        newM <- M + tcrossprod(x)\n",
    "\n",
    "        num <- det_update_chol(x, dM, R)^((m - p - 1.0) / 2.0) *\n",
    "            exp(-0.5 * sum(diag(Σ_inv %*% newM)))\n",
    "\n",
    "        fM <- num / denum\n",
    "\n",
    "        list(M = newM, fM = fM)\n",
    "    })\n",
    "}"
   ]
  },
  {
   "cell_type": "code",
   "execution_count": 6,
   "metadata": {},
   "outputs": [
    {
     "data": {
      "text/html": [
       "<ol>\n",
       "\t<li><dl>\n",
       "\t<dt>$M</dt>\n",
       "\t\t<dd><table class=\"dataframe\">\n",
       "<caption>A matrix: 2 × 2 of type dbl</caption>\n",
       "<tbody>\n",
       "\t<tr><td>0.8048792</td><td>0.8649487</td></tr>\n",
       "\t<tr><td>0.8649487</td><td>5.8974363</td></tr>\n",
       "</tbody>\n",
       "</table>\n",
       "</dd>\n",
       "\t<dt>$fM</dt>\n",
       "\t\t<dd>0.00278820129232463</dd>\n",
       "</dl>\n",
       "</li>\n",
       "\t<li><dl>\n",
       "\t<dt>$M</dt>\n",
       "\t\t<dd><table class=\"dataframe\">\n",
       "<caption>A matrix: 2 × 2 of type dbl</caption>\n",
       "<tbody>\n",
       "\t<tr><td> 0.3635222</td><td>-1.372759</td></tr>\n",
       "\t<tr><td>-1.3727592</td><td> 5.953276</td></tr>\n",
       "</tbody>\n",
       "</table>\n",
       "</dd>\n",
       "\t<dt>$fM</dt>\n",
       "\t\t<dd>0.000894160995751205</dd>\n",
       "</dl>\n",
       "</li>\n",
       "</ol>\n"
      ],
      "text/latex": [
       "\\begin{enumerate}\n",
       "\\item \\begin{description}\n",
       "\\item[\\$M] A matrix: 2 × 2 of type dbl\n",
       "\\begin{tabular}{ll}\n",
       "\t 0.8048792 & 0.8649487\\\\\n",
       "\t 0.8649487 & 5.8974363\\\\\n",
       "\\end{tabular}\n",
       "\n",
       "\\item[\\$fM] 0.00278820129232463\n",
       "\\end{description}\n",
       "\n",
       "\\item \\begin{description}\n",
       "\\item[\\$M] A matrix: 2 × 2 of type dbl\n",
       "\\begin{tabular}{ll}\n",
       "\t  0.3635222 & -1.372759\\\\\n",
       "\t -1.3727592 &  5.953276\\\\\n",
       "\\end{tabular}\n",
       "\n",
       "\\item[\\$fM] 0.000894160995751205\n",
       "\\end{description}\n",
       "\n",
       "\\end{enumerate}\n"
      ],
      "text/markdown": [
       "1. $M\n",
       ":   \n",
       "A matrix: 2 × 2 of type dbl\n",
       "\n",
       "| 0.8048792 | 0.8649487 |\n",
       "| 0.8649487 | 5.8974363 |\n",
       "\n",
       "\n",
       "$fM\n",
       ":   0.00278820129232463\n",
       "\n",
       "\n",
       "\n",
       "2. $M\n",
       ":   \n",
       "A matrix: 2 × 2 of type dbl\n",
       "\n",
       "|  0.3635222 | -1.372759 |\n",
       "| -1.3727592 |  5.953276 |\n",
       "\n",
       "\n",
       "$fM\n",
       ":   0.000894160995751205\n",
       "\n",
       "\n",
       "\n",
       "\n",
       "\n"
      ],
      "text/plain": [
       "[[1]]\n",
       "[[1]]$M\n",
       "          [,1]      [,2]\n",
       "[1,] 0.8048792 0.8649487\n",
       "[2,] 0.8649487 5.8974363\n",
       "\n",
       "[[1]]$fM\n",
       "[1] 0.002788201\n",
       "\n",
       "\n",
       "[[2]]\n",
       "[[2]]$M\n",
       "           [,1]      [,2]\n",
       "[1,]  0.3635222 -1.372759\n",
       "[2,] -1.3727592  5.953276\n",
       "\n",
       "[[2]]$fM\n",
       "[1] 0.000894161\n",
       "\n"
      ]
     },
     "metadata": {},
     "output_type": "display_data"
    }
   ],
   "source": [
    "set.seed(666)\n",
    "wishart_pert(2L, M, 4.0, diag(2L))"
   ]
  },
  {
   "cell_type": "markdown",
   "metadata": {},
   "source": [
    "## Commentaire\n",
    "Il aurait été préférable de travailler sur l'échelle logarithmique pour la densité. On a\n",
    "$$\n",
    "\\log f(\\boldsymbol M) = (m - p - 1) \\log |\\boldsymbol M| - \\text{tr}(\\boldsymbol{\\Sigma}^{-1} \\boldsymbol M) -\n",
    "    m(p \\log 2 + log |\\boldsymbol{\\Sigma}|) + 2 \\log \\Gamma_p \\left( \\frac m 2 \\right)\n",
    "$$\n",
    "où\n",
    "$$\n",
    "    \\log \\Gamma_p(x) = \\frac{p (p - 1)}{4} \\log \\pi + \\sum_{k = 1}^p \\log \\Gamma \\left( m - \\frac{k - 1}{2} \\right)\n",
    "$$\n",
    "qu'on pourrait spécialiser d'avantage au besoin. Implémenté ci-dessous."
   ]
  },
  {
   "cell_type": "code",
   "execution_count": 7,
   "metadata": {},
   "outputs": [],
   "source": [
    "gamma_mult <- function(x, p, log = FALSE) {\n",
    "    log_π <- (p * (p - 1.0) / 4.0) * log(pi)\n",
    "    log_Γ <- log(gamma(x - seq_len(p) / 2.0 + 0.5))\n",
    "\n",
    "    res  <- log_π + sum(log_Γ)\n",
    "    ifelse(log, res, exp(res))\n",
    "}\n",
    "\n",
    "wishart_pert <- function(n, M, m, Σ, log = FALSE) {\n",
    "    p <- nrow(M)\n",
    "    dM <- det(M)\n",
    "    log_dΣ <- log(det(Σ))\n",
    "    Σ_inv <- solve(Σ)\n",
    "    log_Γ = gamma_mult(0.5 * m, p, log = TRUE)\n",
    "    R <- chol(M)\n",
    "    \n",
    "    log_2 <- log(2)\n",
    "    log_denum <- m * (p * log_2 + log_dΣ) + 2 * log_Γ\n",
    "\n",
    "    replicate(n, simplify = FALSE, {\n",
    "        x <- rnorm(p)\n",
    "        newM <- M + tcrossprod(x)\n",
    "\n",
    "        log_num <- (m - p - 1.0) * log(det_update_chol(x, dM, R)) -\n",
    "            sum(diag(Σ_inv %*% newM))\n",
    "        \n",
    "        log_fM <- log_num - log_denum\n",
    "\n",
    "        list(M = newM, fM = ifelse(log, log_fM, exp(log_fM)))\n",
    "    })\n",
    "}"
   ]
  },
  {
   "cell_type": "code",
   "execution_count": 8,
   "metadata": {},
   "outputs": [
    {
     "data": {
      "text/html": [
       "3219542192.2222"
      ],
      "text/latex": [
       "3219542192.2222"
      ],
      "text/markdown": [
       "3219542192.2222"
      ],
      "text/plain": [
       "[1] 3219542192"
      ]
     },
     "metadata": {},
     "output_type": "display_data"
    }
   ],
   "source": [
    "gamma_mult(6, 5)"
   ]
  },
  {
   "cell_type": "code",
   "execution_count": 9,
   "metadata": {},
   "outputs": [
    {
     "data": {
      "text/html": [
       "<ol>\n",
       "\t<li><dl>\n",
       "\t<dt>$M</dt>\n",
       "\t\t<dd><table class=\"dataframe\">\n",
       "<caption>A matrix: 2 × 2 of type dbl</caption>\n",
       "<tbody>\n",
       "\t<tr><td>0.8048792</td><td>0.8649487</td></tr>\n",
       "\t<tr><td>0.8649487</td><td>5.8974363</td></tr>\n",
       "</tbody>\n",
       "</table>\n",
       "</dd>\n",
       "\t<dt>$fM</dt>\n",
       "\t\t<dd>7.77406644652075e-06</dd>\n",
       "</dl>\n",
       "</li>\n",
       "\t<li><dl>\n",
       "\t<dt>$M</dt>\n",
       "\t\t<dd><table class=\"dataframe\">\n",
       "<caption>A matrix: 2 × 2 of type dbl</caption>\n",
       "<tbody>\n",
       "\t<tr><td> 0.3635222</td><td>-1.372759</td></tr>\n",
       "\t<tr><td>-1.3727592</td><td> 5.953276</td></tr>\n",
       "</tbody>\n",
       "</table>\n",
       "</dd>\n",
       "\t<dt>$fM</dt>\n",
       "\t\t<dd>7.99523886322786e-07</dd>\n",
       "</dl>\n",
       "</li>\n",
       "</ol>\n"
      ],
      "text/latex": [
       "\\begin{enumerate}\n",
       "\\item \\begin{description}\n",
       "\\item[\\$M] A matrix: 2 × 2 of type dbl\n",
       "\\begin{tabular}{ll}\n",
       "\t 0.8048792 & 0.8649487\\\\\n",
       "\t 0.8649487 & 5.8974363\\\\\n",
       "\\end{tabular}\n",
       "\n",
       "\\item[\\$fM] 7.77406644652075e-06\n",
       "\\end{description}\n",
       "\n",
       "\\item \\begin{description}\n",
       "\\item[\\$M] A matrix: 2 × 2 of type dbl\n",
       "\\begin{tabular}{ll}\n",
       "\t  0.3635222 & -1.372759\\\\\n",
       "\t -1.3727592 &  5.953276\\\\\n",
       "\\end{tabular}\n",
       "\n",
       "\\item[\\$fM] 7.99523886322786e-07\n",
       "\\end{description}\n",
       "\n",
       "\\end{enumerate}\n"
      ],
      "text/markdown": [
       "1. $M\n",
       ":   \n",
       "A matrix: 2 × 2 of type dbl\n",
       "\n",
       "| 0.8048792 | 0.8649487 |\n",
       "| 0.8649487 | 5.8974363 |\n",
       "\n",
       "\n",
       "$fM\n",
       ":   7.77406644652075e-06\n",
       "\n",
       "\n",
       "\n",
       "2. $M\n",
       ":   \n",
       "A matrix: 2 × 2 of type dbl\n",
       "\n",
       "|  0.3635222 | -1.372759 |\n",
       "| -1.3727592 |  5.953276 |\n",
       "\n",
       "\n",
       "$fM\n",
       ":   7.99523886322786e-07\n",
       "\n",
       "\n",
       "\n",
       "\n",
       "\n"
      ],
      "text/plain": [
       "[[1]]\n",
       "[[1]]$M\n",
       "          [,1]      [,2]\n",
       "[1,] 0.8048792 0.8649487\n",
       "[2,] 0.8649487 5.8974363\n",
       "\n",
       "[[1]]$fM\n",
       "[1] 7.774066e-06\n",
       "\n",
       "\n",
       "[[2]]\n",
       "[[2]]$M\n",
       "           [,1]      [,2]\n",
       "[1,]  0.3635222 -1.372759\n",
       "[2,] -1.3727592  5.953276\n",
       "\n",
       "[[2]]$fM\n",
       "[1] 7.995239e-07\n",
       "\n"
      ]
     },
     "metadata": {},
     "output_type": "display_data"
    }
   ],
   "source": [
    "set.seed(666)\n",
    "wishart_pert(2L, M, 4.0, diag(2L))"
   ]
  }
 ],
 "metadata": {
  "kernelspec": {
   "display_name": "R",
   "language": "R",
   "name": "ir"
  },
  "language_info": {
   "codemirror_mode": "r",
   "file_extension": ".r",
   "mimetype": "text/x-r-source",
   "name": "R",
   "pygments_lexer": "r",
   "version": "4.1.1"
  }
 },
 "nbformat": 4,
 "nbformat_minor": 4
}
