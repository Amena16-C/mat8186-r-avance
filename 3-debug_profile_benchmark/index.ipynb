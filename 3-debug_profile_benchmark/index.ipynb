{
 "cells": [
  {
   "cell_type": "code",
   "execution_count": 1,
   "metadata": {
    "slideshow": {
     "slide_type": "skip"
    }
   },
   "outputs": [
    {
     "name": "stderr",
     "output_type": "stream",
     "text": [
      "Warning message in unit(c(t, r, b, l), unit):\n",
      "“NAs introduced by coercion”\n"
     ]
    }
   ],
   "source": [
    "source(\"../utils.R\")\n",
    "options(repr.plot.width = 10, repr.plot.height = 10)"
   ]
  },
  {
   "cell_type": "markdown",
   "metadata": {
    "slideshow": {
     "slide_type": "slide"
    }
   },
   "source": [
    "# Debug, profile, benchmark\n",
    "\n",
    "<div class=\"subtitle1\" id=\"coursename\">\n",
    "Techniques avancées en programmation statistique <strong>R</strong>\n",
    "</div>\n",
    "<div class=\"subtitle2\" id=\"author\">\n",
    "Patrick Fournier<br>\n",
    "Automne 2021<br>\n",
    "Université du Québec À Montréal<br>\n",
    "</div>"
   ]
  },
  {
   "cell_type": "markdown",
   "metadata": {
    "slideshow": {
     "slide_type": "slide"
    },
    "tags": []
   },
   "source": [
    "## Cours 1: Debug, profile, benchmark\n",
    "1. Debug\n",
    "2. Profile\n",
    "3. Benchmark"
   ]
  },
  {
   "cell_type": "markdown",
   "metadata": {
    "slideshow": {
     "slide_type": "slide"
    }
   },
   "source": [
    "## Debug\n",
    "\n",
    "* Processus de recherche et de correction des bugs\n",
    "* De ce point de vue, tout le monde a déjà débogué\n",
    "* Plusieurs manières:\n",
    "    + Méthode naïve: \n",
    "        * \"À la main\", avec `print` par exemple\n",
    "        * Modification directe du code\n",
    "    + Méthode interactive\n",
    "        * Utilisation d'un débogueur"
   ]
  },
  {
   "cell_type": "markdown",
   "metadata": {
    "slideshow": {
     "slide_type": "subslide"
    }
   },
   "source": [
    "### Déboguage naïf\n",
    "\n",
    "* Méthode très employée!\n",
    "* Utile pour courtes fonctions / bugs simples"
   ]
  },
  {
   "cell_type": "markdown",
   "metadata": {
    "slideshow": {
     "slide_type": "fragment"
    }
   },
   "source": [
    "Workflow:\n",
    "1. Ajouter des `print`au code\n",
    "2. Exécuter le code augmenté\n",
    "3. Modifier le code\n",
    "4. Rincer et répéter"
   ]
  },
  {
   "cell_type": "markdown",
   "metadata": {
    "slideshow": {
     "slide_type": "subslide"
    }
   },
   "source": [
    "### Exemple (trouvez l'erreur)"
   ]
  },
  {
   "cell_type": "code",
   "execution_count": 2,
   "metadata": {
    "scrolled": true,
    "slideshow": {
     "slide_type": "fragment"
    }
   },
   "outputs": [
    {
     "data": {
      "text/html": [
       "0"
      ],
      "text/latex": [
       "0"
      ],
      "text/markdown": [
       "0"
      ],
      "text/plain": [
       "[1] 0"
      ]
     },
     "metadata": {},
     "output_type": "display_data"
    }
   ],
   "source": [
    "fact <- function(x) {\n",
    "    x < 0.0 && return(x)\n",
    "    \n",
    "    x * fact(x - 1.0)\n",
    "}\n",
    "\n",
    "fact(6)"
   ]
  },
  {
   "cell_type": "markdown",
   "metadata": {
    "slideshow": {
     "slide_type": "subslide"
    }
   },
   "source": [
    "### Déboguage interactif\n",
    "\n",
    "* De base, **R** vient avec un débogueur respectable\n",
    "* **R**Studio / VSCode enrichissent grandement l'expérience"
   ]
  },
  {
   "cell_type": "markdown",
   "metadata": {
    "slideshow": {
     "slide_type": "fragment"
    }
   },
   "source": [
    "Workflow:\n",
    "\n",
    "1. Ajouter des breakpoints au code\n",
    "2. Exécuter le code (interactivement)\n",
    "3. Corriger le code"
   ]
  },
  {
   "cell_type": "markdown",
   "metadata": {
    "slideshow": {
     "slide_type": "subslide"
    }
   },
   "source": [
    "### Exemple\n",
    "\n",
    "Vieux code!"
   ]
  },
  {
   "cell_type": "code",
   "execution_count": 12,
   "metadata": {
    "slideshow": {
     "slide_type": "fragment"
    }
   },
   "outputs": [
    {
     "data": {
      "text/html": [
       "<table class=\"dataframe\">\n",
       "<caption>A data.frame: 10 × 3</caption>\n",
       "<thead>\n",
       "\t<tr><th scope=col>Sexe</th><th scope=col>Mutation</th><th scope=col>Malade</th></tr>\n",
       "\t<tr><th scope=col>&lt;dbl&gt;</th><th scope=col>&lt;dbl&gt;</th><th scope=col>&lt;dbl&gt;</th></tr>\n",
       "</thead>\n",
       "<tbody>\n",
       "\t<tr><td>1</td><td>0</td><td>1</td></tr>\n",
       "\t<tr><td>1</td><td>0</td><td>1</td></tr>\n",
       "\t<tr><td>1</td><td>0</td><td>1</td></tr>\n",
       "\t<tr><td>1</td><td>1</td><td>1</td></tr>\n",
       "\t<tr><td>0</td><td>0</td><td>1</td></tr>\n",
       "\t<tr><td>1</td><td>0</td><td>1</td></tr>\n",
       "\t<tr><td>0</td><td>0</td><td>1</td></tr>\n",
       "\t<tr><td>1</td><td>1</td><td>1</td></tr>\n",
       "\t<tr><td>1</td><td>0</td><td>1</td></tr>\n",
       "\t<tr><td>1</td><td>0</td><td>1</td></tr>\n",
       "</tbody>\n",
       "</table>\n"
      ],
      "text/latex": [
       "A data.frame: 10 × 3\n",
       "\\begin{tabular}{lll}\n",
       " Sexe & Mutation & Malade\\\\\n",
       " <dbl> & <dbl> & <dbl>\\\\\n",
       "\\hline\n",
       "\t 1 & 0 & 1\\\\\n",
       "\t 1 & 0 & 1\\\\\n",
       "\t 1 & 0 & 1\\\\\n",
       "\t 1 & 1 & 1\\\\\n",
       "\t 0 & 0 & 1\\\\\n",
       "\t 1 & 0 & 1\\\\\n",
       "\t 0 & 0 & 1\\\\\n",
       "\t 1 & 1 & 1\\\\\n",
       "\t 1 & 0 & 1\\\\\n",
       "\t 1 & 0 & 1\\\\\n",
       "\\end{tabular}\n"
      ],
      "text/markdown": [
       "\n",
       "A data.frame: 10 × 3\n",
       "\n",
       "| Sexe &lt;dbl&gt; | Mutation &lt;dbl&gt; | Malade &lt;dbl&gt; |\n",
       "|---|---|---|\n",
       "| 1 | 0 | 1 |\n",
       "| 1 | 0 | 1 |\n",
       "| 1 | 0 | 1 |\n",
       "| 1 | 1 | 1 |\n",
       "| 0 | 0 | 1 |\n",
       "| 1 | 0 | 1 |\n",
       "| 0 | 0 | 1 |\n",
       "| 1 | 1 | 1 |\n",
       "| 1 | 0 | 1 |\n",
       "| 1 | 0 | 1 |\n",
       "\n"
      ],
      "text/plain": [
       "   Sexe Mutation Malade\n",
       "1  1    0        1     \n",
       "2  1    0        1     \n",
       "3  1    0        1     \n",
       "4  1    1        1     \n",
       "5  0    0        1     \n",
       "6  1    0        1     \n",
       "7  0    0        1     \n",
       "8  1    1        1     \n",
       "9  1    0        1     \n",
       "10 1    0        1     "
      ]
     },
     "metadata": {},
     "output_type": "display_data"
    }
   ],
   "source": [
    "## Retourne la probabilité théorique d'être malade.\n",
    "y.th <- function(sexe, mutation){\n",
    "    ## sexe: Sexe (0 = F, 1 = M).\n",
    "    ## mutation: Possède la mutation (0 = Non, 1 = Oui).\n",
    "\n",
    "    ## On s'assure que tous les arguments sont valides.\n",
    "    if(mutation != 0)\n",
    "        mutation <- 1\n",
    "    if(sexe != 0)\n",
    "        sexe <- 1\n",
    "\n",
    "    ## Pr(Y = 1 | sexe, mutation)\n",
    "    1 + 1 / (1 + 1.1 * 1.5^sexe * 2^mutation)\n",
    "}\n",
    "\n",
    "rmaladie <- function(n){\n",
    "    ## n: Nombre de cas à générer.\n",
    "\n",
    "    ##On s'assure de la validité de n.\n",
    "    if(n < 1)\n",
    "        n <- 1\n",
    "    n <- floor(n)\n",
    "    \n",
    "    s <- runif(n) # Sexe (0 = F, 1 = M).\n",
    "    m <- runif(n) # Possède la mutation (0 = Non, 1 = Oui).\n",
    "    y <- runif(n) # Malade (0 = Non, 1 = Oui).\n",
    "\n",
    "    ## On détermine le sexe de chaque individu, s'il est\n",
    "    ## porteur de la mutation et s'il est malade.\n",
    "    for(i in 1:n){\n",
    "        ## Sexe\n",
    "        if(s[i] < 0.5)\n",
    "            s[i] <- 0\n",
    "        else\n",
    "            s[i] <- 1\n",
    "\n",
    "        ## Mutation\n",
    "        if(m[i] < 0.75)\n",
    "            m[i] <- 0\n",
    "        else\n",
    "            m[i] <- 1\n",
    "\n",
    "        ## Malade\n",
    "        if(y[i] <  1 - y.th(s[i], m[i]))\n",
    "            y[i] <- 0\n",
    "        else\n",
    "            y[i] <- 1\n",
    "    }\n",
    "\n",
    "    r <- as.data.frame(cbind(s, m, y))\n",
    "    colnames(r) <- c(\"Sexe\", \"Mutation\", \"Malade\")\n",
    "    return(r)\n",
    "}\n",
    "\n",
    "rmaladie(10)"
   ]
  },
  {
   "cell_type": "markdown",
   "metadata": {
    "slideshow": {
     "slide_type": "slide"
    }
   },
   "source": [
    "## Profile\n",
    "\n",
    "* Analyse d'un logiciel visant à mesurer sa complexité\n",
    "    + Spatiale\n",
    "    + Temporelle\n",
    "* Cours: complexité *spatiale*\n",
    "* Autres quantités d'intérêt:\n",
    "    + Utilisation d'une instruction précise\n",
    "    + Fréquence des appels à des fonctions\n",
    "    + ...\n",
    "    \n",
    "[Advanced **R**](https://adv-r.hadley.nz/perf-measure.html#profiling)"
   ]
  },
  {
   "cell_type": "markdown",
   "metadata": {
    "slideshow": {
     "slide_type": "subslide"
    }
   },
   "source": [
    "### Quand profiler?\n",
    "* Possibilité de profiler $ \\neq $ nécessité de profiler\n",
    "* Devrait être la *première étape* de l'optimisation d'un logiciel\n",
    "* Un logiciel ne devrait être optimisé que si nécessaire\n",
    "    + \"Premature optimization is the root of all evil\"\n",
    "* Optimisation\n",
    "    + Prend du temps\n",
    "    + Prompt à l'erreur\n",
    "    + rend (souvent) le code plus difficile à comprendre"
   ]
  },
  {
   "cell_type": "markdown",
   "metadata": {
    "slideshow": {
     "slide_type": "subslide"
    }
   },
   "source": [
    "### Comment profiler?\n",
    "\n",
    "* De base, R fournit `Rprof`\n",
    "* RStudio rend l'expérience plus agréable"
   ]
  },
  {
   "cell_type": "code",
   "execution_count": 18,
   "metadata": {
    "slideshow": {
     "slide_type": "subslide"
    }
   },
   "outputs": [
    {
     "data": {
      "text/html": [
       "<style>\n",
       ".list-inline {list-style: none; margin:0; padding: 0}\n",
       ".list-inline>li {display: inline-block}\n",
       ".list-inline>li:not(:last-child)::after {content: \"\\00b7\"; padding: 0 .5ex}\n",
       "</style>\n",
       "<ol class=list-inline><li>0.166666666666667</li><li>0.125</li><li>0.0416666666666667</li><li>0.166666666666667</li></ol>\n"
      ],
      "text/latex": [
       "\\begin{enumerate*}\n",
       "\\item 0.166666666666667\n",
       "\\item 0.125\n",
       "\\item 0.0416666666666667\n",
       "\\item 0.166666666666667\n",
       "\\end{enumerate*}\n"
      ],
      "text/markdown": [
       "1. 0.166666666666667\n",
       "2. 0.125\n",
       "3. 0.0416666666666667\n",
       "4. 0.166666666666667\n",
       "\n",
       "\n"
      ],
      "text/plain": [
       "[1] 0.16666667 0.12500000 0.04166667 0.16666667"
      ]
     },
     "metadata": {},
     "output_type": "display_data"
    }
   ],
   "source": [
    "cutVector <- function(vec, m) {\n",
    "  n <- length(vec) / m\n",
    "  lapply(0:(m - 1),\n",
    "          \\(x) vec[seq(n * x + 1, n * (x + 1))])\n",
    "}\n",
    "\n",
    "dist0 <- function(m, n = 1e4){\n",
    "  dat <- sample(0:9, size = n * m, replace = TRUE)\n",
    "  dat_chopped <- cutVector(dat, m)\n",
    "  \n",
    "  sapply(dat_chopped, \\(v) mean(v == 0))\n",
    "}\n",
    "\n",
    "dist0(4, 24)"
   ]
  },
  {
   "cell_type": "markdown",
   "metadata": {
    "slideshow": {
     "slide_type": "slide"
    }
   },
   "source": [
    "## Benchmark\n",
    "\n",
    "* Comparaison de différents logiciels/approches/méthodes/...\n",
    "* Peut être faite en fonction de différents critères\n",
    "    + Cours: complexité temporelle\n",
    "* Vise à *choisir* un logiciel parmi un ensemble\n",
    "    + Différent d'*améliorer* un logiciel (profilage)\n",
    "* Exemple: étude de simulation\n",
    "\n",
    "[Advanced **R**](https://adv-r.hadley.nz/perf-measure.html#microbenchmarking)"
   ]
  },
  {
   "cell_type": "markdown",
   "metadata": {
    "slideshow": {
     "slide_type": "subslide"
    }
   },
   "source": [
    "### Comment benchmarker?\n",
    "\n",
    "* Méthode naïve: `system.time`\n",
    "    + Très facile à mettre en place\n",
    "    + Très peu d'overhead\n",
    "    + Facile à interpréter"
   ]
  },
  {
   "cell_type": "code",
   "execution_count": 5,
   "metadata": {
    "slideshow": {
     "slide_type": "subslide"
    }
   },
   "outputs": [],
   "source": [
    "lmFast <- function(m){\n",
    "    res <- numeric()\n",
    "\n",
    "    for (kk in 1:m){\n",
    "        random_values <- rnorm(1e6)\n",
    "        X <- matrix(random_values, ncol = 20)\n",
    "        X <- cbind(1, X)\n",
    "        y <- rnorm(5e4)\n",
    "        \n",
    "        qrX <- qr(X)\n",
    "        β <- qr.coef(qrX, y)\n",
    "        res <- cbind(res, β)\n",
    "    }\n",
    "    rownames(res) <- c(\"(Intercept)\", paste0(\"X\", 1:20))\n",
    "    res\n",
    "}"
   ]
  },
  {
   "cell_type": "code",
   "execution_count": 6,
   "metadata": {
    "slideshow": {
     "slide_type": "subslide"
    }
   },
   "outputs": [],
   "source": [
    "lmSlow <- function(m){\n",
    "    Xs <- rnorm(1e6 * m) |>       ## Génération des données.\n",
    "        cutVector(m) |>           ## 1 entrée = 1 simulation.\n",
    "        lapply(matrix, ncol = 20) ## vecteur -> matrice.\n",
    "\n",
    "    ys <- cutVector(rnorm(5e4 * m), m)\n",
    "\n",
    "    mapply(\\(X, y) coef(lm(y ~ X)), Xs, ys)\n",
    "}"
   ]
  },
  {
   "cell_type": "code",
   "execution_count": 7,
   "metadata": {
    "slideshow": {
     "slide_type": "subslide"
    }
   },
   "outputs": [
    {
     "data": {
      "text/plain": [
       "   user  system elapsed \n",
       "  3.823   0.215   2.589 "
      ]
     },
     "metadata": {},
     "output_type": "display_data"
    }
   ],
   "source": [
    "system.time(lmSlow(20))"
   ]
  },
  {
   "cell_type": "code",
   "execution_count": 8,
   "metadata": {
    "slideshow": {
     "slide_type": "fragment"
    }
   },
   "outputs": [
    {
     "data": {
      "text/plain": [
       "   user  system elapsed \n",
       "  3.351   0.069   1.805 "
      ]
     },
     "metadata": {},
     "output_type": "display_data"
    }
   ],
   "source": [
    "system.time(lmFast(20))"
   ]
  },
  {
   "cell_type": "markdown",
   "metadata": {
    "slideshow": {
     "slide_type": "subslide"
    }
   },
   "source": [
    "### Comment benchmarker?\n",
    "<div class=\"caption1\">\n",
    "    Package Microbenchmark\n",
    "</div>\n",
    "\n",
    "* Facile à utiliser\n",
    "    + Une seule fonction: `microbenchmark`\n",
    "* Exécute un ensemble d'expressions un nombre fixé de fois\n",
    "* Fourni des statistiques sommaires sur l'exécution\n",
    "* Format `data.frame` $ \\Rightarrow $ possibilité\n",
    "    + Représentation graphique (`autoplot` ou tout simplement `boxplot`)\n",
    "    + Analyses statistiques"
   ]
  },
  {
   "cell_type": "code",
   "execution_count": 9,
   "metadata": {
    "slideshow": {
     "slide_type": "subslide"
    }
   },
   "outputs": [
    {
     "name": "stdout",
     "output_type": "stream",
     "text": [
      "Unit: milliseconds\n",
      "       expr       min        lq      mean    median       uq       max neval\n",
      " lmSlow(10) 1092.8713 1169.8404 1198.9413 1196.4218 1226.319 1273.6825    20\n",
      " lmFast(10)  842.0691  861.6808  877.3882  880.8653  885.929  917.6642    20\n"
     ]
    }
   ],
   "source": [
    "library(microbenchmark)\n",
    "\n",
    "mb <- microbenchmark(lmSlow(10), lmFast(10), times = 20)\n",
    "print(mb)"
   ]
  },
  {
   "cell_type": "code",
   "execution_count": 10,
   "metadata": {
    "slideshow": {
     "slide_type": "subslide"
    }
   },
   "outputs": [
    {
     "data": {
      "image/png": "[encoded data removed]",
      "text/plain": [
       "plot without title"
      ]
     },
     "metadata": {
      "image/png": {
       "height": 600,
       "width": 600
      }
     },
     "output_type": "display_data"
    }
   ],
   "source": [
    "autoplot(mb)"
   ]
  },
  {
   "cell_type": "markdown",
   "metadata": {
    "slideshow": {
     "slide_type": "subslide"
    }
   },
   "source": [
    "### Comment benchmarker?\n",
    "* Temps d'exécution $ \\Rightarrow $ distribution asymétrique\n",
    "* Moyenne 🤨\n",
    "* Préférable d'utiliser la médiane ou le minimum\n",
    "\n",
    "Retour sur l'exemple\n",
    "* Mesure naïve: speedup de $ \\approx 1.4$\n",
    "* Microbenchmark (minimum): speedup de $ \\approx 1.3$\n",
    "* Microbenchmark (médiane): speedup de $ \\approx 1.36$"
   ]
  }
 ],
 "metadata": {
  "celltoolbar": "Slideshow",
  "kernelspec": {
   "display_name": "R",
   "language": "R",
   "name": "ir"
  },
  "language_info": {
   "codemirror_mode": "r",
   "file_extension": ".r",
   "mimetype": "text/x-r-source",
   "name": "R",
   "pygments_lexer": "r",
   "version": "4.1.1"
  },
  "livereveal": {
   "autolaunch": true
  },
  "rise": {
   "autolaunch": true,
   "controls": true,
   "controlsTutorial": true,
   "hash": true,
   "help": false,
   "hideinactivecursor": true,
   "mouseWheel": false,
   "overview": false,
   "pause": true,
   "scroll": true,
   "slideNumber": true,
   "theme": "black",
   "transition": "slide"
  }
 },
 "nbformat": 4,
 "nbformat_minor": 4
}
